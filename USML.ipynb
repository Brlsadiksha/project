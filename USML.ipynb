{
 "cells": [
  {
   "cell_type": "markdown",
   "id": "72ca5cb7",
   "metadata": {},
   "source": [
    "### USML"
   ]
  },
  {
   "cell_type": "markdown",
   "id": "151e1360",
   "metadata": {},
   "source": [
    "#### PCA analysis\n",
    "- Through dimensionality reduction, we will find the PC in the interval with the widest variance."
   ]
  },
  {
   "cell_type": "markdown",
   "id": "596ab1e7",
   "metadata": {},
   "source": [
    "data reading and filtering"
   ]
  },
  {
   "cell_type": "code",
   "execution_count": 2,
   "id": "e16271cd",
   "metadata": {},
   "outputs": [],
   "source": [
    "import numpy as np\n",
    "import pandas as pd\n",
    "import matplotlib.pyplot as plt\n",
    "\n",
    "from sklearn.decomposition import PCA\n",
    "\n",
    "from sklearn.preprocessing import StandardScaler\n",
    "from sklearn.preprocessing import OneHotEncoder\n",
    "import altair as alt\n",
    "from sklearn.model_selection import train_test_split\n",
    "import seaborn as sns\n",
    "from sklearn.preprocessing import MinMaxScaler\n",
    "import umap\n",
    "\n",
    "from sklearn.decomposition import NMF\n",
    "from sklearn.preprocessing import LabelEncoder"
   ]
  },
  {
   "cell_type": "code",
   "execution_count": 2,
   "id": "3627f53e",
   "metadata": {},
   "outputs": [],
   "source": [
    "df_employee=pd.read_csv('employee_survey_data.csv')\n",
    "df_employee.head() # we can see relationship with 3 features.\n",
    "df_general = pd.read_csv('general_data.csv')\n",
    "df_manager=pd.read_csv('manager_survey_data.csv')\n",
    "df_general['EmployeeID'].equals(df_manager['EmployeeID'])\n",
    "df_general['EmployeeID'].equals(df_employee['EmployeeID'])\n",
    "df_general = df_general.merge(df_employee[['EmployeeID', 'EnvironmentSatisfaction', 'JobSatisfaction','WorkLifeBalance']], on='EmployeeID')\n",
    "df_general = df_general.merge(df_manager[['EmployeeID', 'JobInvolvement', 'PerformanceRating']], on='EmployeeID')\n",
    "df_general.dropna(inplace=True)"
   ]
  },
  {
   "cell_type": "code",
   "execution_count": 3,
   "id": "4f7b4e62",
   "metadata": {},
   "outputs": [],
   "source": [
    "# create a list of our conditions\n",
    "conditions = [\n",
    "    (df_general['Age'] <= 20),\n",
    "    (df_general['Age'] > 20) & (df_general['Age'] <= 30),\n",
    "    (df_general['Age'] > 30) & (df_general['Age'] <= 40),\n",
    "    (df_general['Age'] > 40) & (df_general['Age'] <= 50),\n",
    "    (df_general['Age'] > 50) & (df_general['Age'] <= 60)\n",
    "    ]\n",
    "\n",
    "# create a list of the values we want to assign for each condition\n",
    "values = ['less_20', '20_30', '30_40', '40_50', '50_60']\n",
    "\n",
    "# create a new column and use np.select to assign values to it using our lists as arguments\n",
    "df_general['Age_tier'] = np.select(conditions, values)"
   ]
  },
  {
   "cell_type": "code",
   "execution_count": 3,
   "id": "80cf6995",
   "metadata": {},
   "outputs": [],
   "source": [
    "df_hr=pd.read_csv('hr_final.csv')"
   ]
  },
  {
   "cell_type": "code",
   "execution_count": 8,
   "id": "ce27d369",
   "metadata": {},
   "outputs": [],
   "source": [
    "df_hr.drop(columns=['Unnamed: 0'], axis = 1, inplace = True)"
   ]
  },
  {
   "cell_type": "code",
   "execution_count": 9,
   "id": "395311dd",
   "metadata": {
    "scrolled": true
   },
   "outputs": [
    {
     "data": {
      "text/plain": [
       "Index(['Age', 'Attrition', 'BusinessTravel', 'Department', 'DistanceFromHome',\n",
       "       'Education', 'EducationField', 'Gender', 'JobLevel', 'JobRole',\n",
       "       'MaritalStatus', 'MonthlyIncome', 'NumCompaniesWorked',\n",
       "       'PercentSalaryHike', 'StockOptionLevel', 'TotalWorkingYears',\n",
       "       'TrainingTimesLastYear', 'YearsAtCompany', 'YearsSinceLastPromotion',\n",
       "       'YearsWithCurrManager', 'JobInvolvement', 'PerformanceRating',\n",
       "       'EnvironmentSatisfaction', 'JobSatisfaction', 'WorkLifeBalance',\n",
       "       'Age_tier', 'distancehome_tier', 'JobRole_tier', 'MonthlyIncome_tier'],\n",
       "      dtype='object')"
      ]
     },
     "execution_count": 9,
     "metadata": {},
     "output_type": "execute_result"
    }
   ],
   "source": [
    "df_hr.columns"
   ]
  },
  {
   "cell_type": "code",
   "execution_count": 7,
   "id": "998e9455",
   "metadata": {},
   "outputs": [
    {
     "data": {
      "text/html": [
       "<div>\n",
       "<style scoped>\n",
       "    .dataframe tbody tr th:only-of-type {\n",
       "        vertical-align: middle;\n",
       "    }\n",
       "\n",
       "    .dataframe tbody tr th {\n",
       "        vertical-align: top;\n",
       "    }\n",
       "\n",
       "    .dataframe thead th {\n",
       "        text-align: right;\n",
       "    }\n",
       "</style>\n",
       "<table border=\"1\" class=\"dataframe\">\n",
       "  <thead>\n",
       "    <tr style=\"text-align: right;\">\n",
       "      <th></th>\n",
       "      <th>Unnamed: 0</th>\n",
       "      <th>Age</th>\n",
       "      <th>Attrition</th>\n",
       "      <th>BusinessTravel</th>\n",
       "      <th>Department</th>\n",
       "      <th>DistanceFromHome</th>\n",
       "      <th>Education</th>\n",
       "      <th>EducationField</th>\n",
       "      <th>Gender</th>\n",
       "      <th>JobLevel</th>\n",
       "      <th>...</th>\n",
       "      <th>YearsWithCurrManager</th>\n",
       "      <th>JobInvolvement</th>\n",
       "      <th>PerformanceRating</th>\n",
       "      <th>EnvironmentSatisfaction</th>\n",
       "      <th>JobSatisfaction</th>\n",
       "      <th>WorkLifeBalance</th>\n",
       "      <th>Age_tier</th>\n",
       "      <th>distancehome_tier</th>\n",
       "      <th>JobRole_tier</th>\n",
       "      <th>MonthlyIncome_tier</th>\n",
       "    </tr>\n",
       "  </thead>\n",
       "  <tbody>\n",
       "    <tr>\n",
       "      <th>0</th>\n",
       "      <td>0</td>\n",
       "      <td>51</td>\n",
       "      <td>0</td>\n",
       "      <td>2</td>\n",
       "      <td>2</td>\n",
       "      <td>6</td>\n",
       "      <td>2</td>\n",
       "      <td>1</td>\n",
       "      <td>0</td>\n",
       "      <td>1</td>\n",
       "      <td>...</td>\n",
       "      <td>0</td>\n",
       "      <td>3</td>\n",
       "      <td>3</td>\n",
       "      <td>3.0</td>\n",
       "      <td>4.0</td>\n",
       "      <td>2.0</td>\n",
       "      <td>3</td>\n",
       "      <td>3</td>\n",
       "      <td>4</td>\n",
       "      <td>5</td>\n",
       "    </tr>\n",
       "    <tr>\n",
       "      <th>1</th>\n",
       "      <td>1</td>\n",
       "      <td>31</td>\n",
       "      <td>1</td>\n",
       "      <td>1</td>\n",
       "      <td>1</td>\n",
       "      <td>10</td>\n",
       "      <td>1</td>\n",
       "      <td>1</td>\n",
       "      <td>0</td>\n",
       "      <td>1</td>\n",
       "      <td>...</td>\n",
       "      <td>4</td>\n",
       "      <td>2</td>\n",
       "      <td>4</td>\n",
       "      <td>3.0</td>\n",
       "      <td>2.0</td>\n",
       "      <td>4.0</td>\n",
       "      <td>1</td>\n",
       "      <td>3</td>\n",
       "      <td>1</td>\n",
       "      <td>3</td>\n",
       "    </tr>\n",
       "    <tr>\n",
       "      <th>2</th>\n",
       "      <td>2</td>\n",
       "      <td>32</td>\n",
       "      <td>0</td>\n",
       "      <td>1</td>\n",
       "      <td>1</td>\n",
       "      <td>17</td>\n",
       "      <td>4</td>\n",
       "      <td>4</td>\n",
       "      <td>1</td>\n",
       "      <td>4</td>\n",
       "      <td>...</td>\n",
       "      <td>3</td>\n",
       "      <td>3</td>\n",
       "      <td>3</td>\n",
       "      <td>2.0</td>\n",
       "      <td>2.0</td>\n",
       "      <td>1.0</td>\n",
       "      <td>1</td>\n",
       "      <td>2</td>\n",
       "      <td>1</td>\n",
       "      <td>5</td>\n",
       "    </tr>\n",
       "    <tr>\n",
       "      <th>3</th>\n",
       "      <td>3</td>\n",
       "      <td>38</td>\n",
       "      <td>0</td>\n",
       "      <td>0</td>\n",
       "      <td>1</td>\n",
       "      <td>2</td>\n",
       "      <td>5</td>\n",
       "      <td>1</td>\n",
       "      <td>1</td>\n",
       "      <td>3</td>\n",
       "      <td>...</td>\n",
       "      <td>5</td>\n",
       "      <td>2</td>\n",
       "      <td>3</td>\n",
       "      <td>4.0</td>\n",
       "      <td>4.0</td>\n",
       "      <td>3.0</td>\n",
       "      <td>1</td>\n",
       "      <td>4</td>\n",
       "      <td>4</td>\n",
       "      <td>4</td>\n",
       "    </tr>\n",
       "    <tr>\n",
       "      <th>4</th>\n",
       "      <td>4</td>\n",
       "      <td>32</td>\n",
       "      <td>0</td>\n",
       "      <td>2</td>\n",
       "      <td>1</td>\n",
       "      <td>10</td>\n",
       "      <td>1</td>\n",
       "      <td>3</td>\n",
       "      <td>1</td>\n",
       "      <td>1</td>\n",
       "      <td>...</td>\n",
       "      <td>4</td>\n",
       "      <td>3</td>\n",
       "      <td>3</td>\n",
       "      <td>4.0</td>\n",
       "      <td>1.0</td>\n",
       "      <td>3.0</td>\n",
       "      <td>1</td>\n",
       "      <td>3</td>\n",
       "      <td>1</td>\n",
       "      <td>1</td>\n",
       "    </tr>\n",
       "  </tbody>\n",
       "</table>\n",
       "<p>5 rows × 30 columns</p>\n",
       "</div>"
      ],
      "text/plain": [
       "   Unnamed: 0  Age  Attrition  BusinessTravel  Department  DistanceFromHome  \\\n",
       "0           0   51          0               2           2                 6   \n",
       "1           1   31          1               1           1                10   \n",
       "2           2   32          0               1           1                17   \n",
       "3           3   38          0               0           1                 2   \n",
       "4           4   32          0               2           1                10   \n",
       "\n",
       "   Education  EducationField  Gender  JobLevel  ...  YearsWithCurrManager  \\\n",
       "0          2               1       0         1  ...                     0   \n",
       "1          1               1       0         1  ...                     4   \n",
       "2          4               4       1         4  ...                     3   \n",
       "3          5               1       1         3  ...                     5   \n",
       "4          1               3       1         1  ...                     4   \n",
       "\n",
       "   JobInvolvement  PerformanceRating  EnvironmentSatisfaction  \\\n",
       "0               3                  3                      3.0   \n",
       "1               2                  4                      3.0   \n",
       "2               3                  3                      2.0   \n",
       "3               2                  3                      4.0   \n",
       "4               3                  3                      4.0   \n",
       "\n",
       "   JobSatisfaction  WorkLifeBalance  Age_tier  distancehome_tier  \\\n",
       "0              4.0              2.0         3                  3   \n",
       "1              2.0              4.0         1                  3   \n",
       "2              2.0              1.0         1                  2   \n",
       "3              4.0              3.0         1                  4   \n",
       "4              1.0              3.0         1                  3   \n",
       "\n",
       "   JobRole_tier  MonthlyIncome_tier  \n",
       "0             4                   5  \n",
       "1             1                   3  \n",
       "2             1                   5  \n",
       "3             4                   4  \n",
       "4             1                   1  \n",
       "\n",
       "[5 rows x 30 columns]"
      ]
     },
     "execution_count": 7,
     "metadata": {},
     "output_type": "execute_result"
    }
   ],
   "source": [
    "df_hr.head()"
   ]
  },
  {
   "cell_type": "code",
   "execution_count": 10,
   "id": "2a66273b",
   "metadata": {
    "scrolled": true
   },
   "outputs": [
    {
     "data": {
      "text/plain": [
       "(4382, 29)"
      ]
     },
     "execution_count": 10,
     "metadata": {},
     "output_type": "execute_result"
    }
   ],
   "source": [
    "df_hr.shape"
   ]
  },
  {
   "cell_type": "code",
   "execution_count": 8,
   "id": "deab3c8e",
   "metadata": {},
   "outputs": [
    {
     "data": {
      "text/plain": [
       "Index(['Attrition', 'BusinessTravel', 'Department', 'EducationField', 'Gender',\n",
       "       'JobRole', 'MaritalStatus', 'Age_tier'],\n",
       "      dtype='object')"
      ]
     },
     "execution_count": 8,
     "metadata": {},
     "output_type": "execute_result"
    }
   ],
   "source": [
    "others = df_general.select_dtypes('object').columns\n",
    "others"
   ]
  },
  {
   "cell_type": "code",
   "execution_count": 9,
   "id": "1c53c815",
   "metadata": {},
   "outputs": [],
   "source": [
    "le = LabelEncoder()\n",
    "for col in others:\n",
    "    df_general[col] = le.fit_transform(df_general[col])"
   ]
  },
  {
   "cell_type": "code",
   "execution_count": 10,
   "id": "6c107301",
   "metadata": {
    "scrolled": false
   },
   "outputs": [
    {
     "data": {
      "text/html": [
       "<div>\n",
       "<style scoped>\n",
       "    .dataframe tbody tr th:only-of-type {\n",
       "        vertical-align: middle;\n",
       "    }\n",
       "\n",
       "    .dataframe tbody tr th {\n",
       "        vertical-align: top;\n",
       "    }\n",
       "\n",
       "    .dataframe thead th {\n",
       "        text-align: right;\n",
       "    }\n",
       "</style>\n",
       "<table border=\"1\" class=\"dataframe\">\n",
       "  <thead>\n",
       "    <tr style=\"text-align: right;\">\n",
       "      <th></th>\n",
       "      <th>Age</th>\n",
       "      <th>Attrition</th>\n",
       "      <th>BusinessTravel</th>\n",
       "      <th>Department</th>\n",
       "      <th>DistanceFromHome</th>\n",
       "      <th>Education</th>\n",
       "      <th>EducationField</th>\n",
       "      <th>EmployeeID</th>\n",
       "      <th>Gender</th>\n",
       "      <th>JobLevel</th>\n",
       "      <th>...</th>\n",
       "      <th>TrainingTimesLastYear</th>\n",
       "      <th>YearsAtCompany</th>\n",
       "      <th>YearsSinceLastPromotion</th>\n",
       "      <th>YearsWithCurrManager</th>\n",
       "      <th>EnvironmentSatisfaction</th>\n",
       "      <th>JobSatisfaction</th>\n",
       "      <th>WorkLifeBalance</th>\n",
       "      <th>JobInvolvement</th>\n",
       "      <th>PerformanceRating</th>\n",
       "      <th>Age_tier</th>\n",
       "    </tr>\n",
       "  </thead>\n",
       "  <tbody>\n",
       "    <tr>\n",
       "      <th>0</th>\n",
       "      <td>51</td>\n",
       "      <td>0</td>\n",
       "      <td>2</td>\n",
       "      <td>2</td>\n",
       "      <td>6</td>\n",
       "      <td>2</td>\n",
       "      <td>1</td>\n",
       "      <td>1</td>\n",
       "      <td>0</td>\n",
       "      <td>1</td>\n",
       "      <td>...</td>\n",
       "      <td>6</td>\n",
       "      <td>1</td>\n",
       "      <td>0</td>\n",
       "      <td>0</td>\n",
       "      <td>3.0</td>\n",
       "      <td>4.0</td>\n",
       "      <td>2.0</td>\n",
       "      <td>3</td>\n",
       "      <td>3</td>\n",
       "      <td>3</td>\n",
       "    </tr>\n",
       "    <tr>\n",
       "      <th>1</th>\n",
       "      <td>31</td>\n",
       "      <td>1</td>\n",
       "      <td>1</td>\n",
       "      <td>1</td>\n",
       "      <td>10</td>\n",
       "      <td>1</td>\n",
       "      <td>1</td>\n",
       "      <td>2</td>\n",
       "      <td>0</td>\n",
       "      <td>1</td>\n",
       "      <td>...</td>\n",
       "      <td>3</td>\n",
       "      <td>5</td>\n",
       "      <td>1</td>\n",
       "      <td>4</td>\n",
       "      <td>3.0</td>\n",
       "      <td>2.0</td>\n",
       "      <td>4.0</td>\n",
       "      <td>2</td>\n",
       "      <td>4</td>\n",
       "      <td>1</td>\n",
       "    </tr>\n",
       "    <tr>\n",
       "      <th>2</th>\n",
       "      <td>32</td>\n",
       "      <td>0</td>\n",
       "      <td>1</td>\n",
       "      <td>1</td>\n",
       "      <td>17</td>\n",
       "      <td>4</td>\n",
       "      <td>4</td>\n",
       "      <td>3</td>\n",
       "      <td>1</td>\n",
       "      <td>4</td>\n",
       "      <td>...</td>\n",
       "      <td>2</td>\n",
       "      <td>5</td>\n",
       "      <td>0</td>\n",
       "      <td>3</td>\n",
       "      <td>2.0</td>\n",
       "      <td>2.0</td>\n",
       "      <td>1.0</td>\n",
       "      <td>3</td>\n",
       "      <td>3</td>\n",
       "      <td>1</td>\n",
       "    </tr>\n",
       "    <tr>\n",
       "      <th>3</th>\n",
       "      <td>38</td>\n",
       "      <td>0</td>\n",
       "      <td>0</td>\n",
       "      <td>1</td>\n",
       "      <td>2</td>\n",
       "      <td>5</td>\n",
       "      <td>1</td>\n",
       "      <td>4</td>\n",
       "      <td>1</td>\n",
       "      <td>3</td>\n",
       "      <td>...</td>\n",
       "      <td>5</td>\n",
       "      <td>8</td>\n",
       "      <td>7</td>\n",
       "      <td>5</td>\n",
       "      <td>4.0</td>\n",
       "      <td>4.0</td>\n",
       "      <td>3.0</td>\n",
       "      <td>2</td>\n",
       "      <td>3</td>\n",
       "      <td>1</td>\n",
       "    </tr>\n",
       "    <tr>\n",
       "      <th>4</th>\n",
       "      <td>32</td>\n",
       "      <td>0</td>\n",
       "      <td>2</td>\n",
       "      <td>1</td>\n",
       "      <td>10</td>\n",
       "      <td>1</td>\n",
       "      <td>3</td>\n",
       "      <td>5</td>\n",
       "      <td>1</td>\n",
       "      <td>1</td>\n",
       "      <td>...</td>\n",
       "      <td>2</td>\n",
       "      <td>6</td>\n",
       "      <td>0</td>\n",
       "      <td>4</td>\n",
       "      <td>4.0</td>\n",
       "      <td>1.0</td>\n",
       "      <td>3.0</td>\n",
       "      <td>3</td>\n",
       "      <td>3</td>\n",
       "      <td>1</td>\n",
       "    </tr>\n",
       "    <tr>\n",
       "      <th>5</th>\n",
       "      <td>46</td>\n",
       "      <td>0</td>\n",
       "      <td>2</td>\n",
       "      <td>1</td>\n",
       "      <td>8</td>\n",
       "      <td>3</td>\n",
       "      <td>1</td>\n",
       "      <td>6</td>\n",
       "      <td>0</td>\n",
       "      <td>4</td>\n",
       "      <td>...</td>\n",
       "      <td>5</td>\n",
       "      <td>7</td>\n",
       "      <td>7</td>\n",
       "      <td>7</td>\n",
       "      <td>3.0</td>\n",
       "      <td>2.0</td>\n",
       "      <td>2.0</td>\n",
       "      <td>3</td>\n",
       "      <td>3</td>\n",
       "      <td>2</td>\n",
       "    </tr>\n",
       "    <tr>\n",
       "      <th>6</th>\n",
       "      <td>28</td>\n",
       "      <td>1</td>\n",
       "      <td>2</td>\n",
       "      <td>1</td>\n",
       "      <td>11</td>\n",
       "      <td>2</td>\n",
       "      <td>3</td>\n",
       "      <td>7</td>\n",
       "      <td>1</td>\n",
       "      <td>2</td>\n",
       "      <td>...</td>\n",
       "      <td>2</td>\n",
       "      <td>0</td>\n",
       "      <td>0</td>\n",
       "      <td>0</td>\n",
       "      <td>1.0</td>\n",
       "      <td>3.0</td>\n",
       "      <td>1.0</td>\n",
       "      <td>3</td>\n",
       "      <td>4</td>\n",
       "      <td>0</td>\n",
       "    </tr>\n",
       "    <tr>\n",
       "      <th>7</th>\n",
       "      <td>29</td>\n",
       "      <td>0</td>\n",
       "      <td>2</td>\n",
       "      <td>1</td>\n",
       "      <td>18</td>\n",
       "      <td>3</td>\n",
       "      <td>1</td>\n",
       "      <td>8</td>\n",
       "      <td>1</td>\n",
       "      <td>2</td>\n",
       "      <td>...</td>\n",
       "      <td>2</td>\n",
       "      <td>0</td>\n",
       "      <td>0</td>\n",
       "      <td>0</td>\n",
       "      <td>1.0</td>\n",
       "      <td>2.0</td>\n",
       "      <td>3.0</td>\n",
       "      <td>3</td>\n",
       "      <td>4</td>\n",
       "      <td>0</td>\n",
       "    </tr>\n",
       "    <tr>\n",
       "      <th>8</th>\n",
       "      <td>31</td>\n",
       "      <td>0</td>\n",
       "      <td>2</td>\n",
       "      <td>1</td>\n",
       "      <td>1</td>\n",
       "      <td>3</td>\n",
       "      <td>1</td>\n",
       "      <td>9</td>\n",
       "      <td>1</td>\n",
       "      <td>3</td>\n",
       "      <td>...</td>\n",
       "      <td>2</td>\n",
       "      <td>9</td>\n",
       "      <td>7</td>\n",
       "      <td>8</td>\n",
       "      <td>2.0</td>\n",
       "      <td>4.0</td>\n",
       "      <td>3.0</td>\n",
       "      <td>3</td>\n",
       "      <td>4</td>\n",
       "      <td>1</td>\n",
       "    </tr>\n",
       "    <tr>\n",
       "      <th>9</th>\n",
       "      <td>25</td>\n",
       "      <td>0</td>\n",
       "      <td>0</td>\n",
       "      <td>1</td>\n",
       "      <td>7</td>\n",
       "      <td>4</td>\n",
       "      <td>3</td>\n",
       "      <td>10</td>\n",
       "      <td>0</td>\n",
       "      <td>4</td>\n",
       "      <td>...</td>\n",
       "      <td>2</td>\n",
       "      <td>6</td>\n",
       "      <td>1</td>\n",
       "      <td>5</td>\n",
       "      <td>2.0</td>\n",
       "      <td>1.0</td>\n",
       "      <td>3.0</td>\n",
       "      <td>3</td>\n",
       "      <td>3</td>\n",
       "      <td>0</td>\n",
       "    </tr>\n",
       "  </tbody>\n",
       "</table>\n",
       "<p>10 rows × 27 columns</p>\n",
       "</div>"
      ],
      "text/plain": [
       "   Age  Attrition  BusinessTravel  Department  DistanceFromHome  Education  \\\n",
       "0   51          0               2           2                 6          2   \n",
       "1   31          1               1           1                10          1   \n",
       "2   32          0               1           1                17          4   \n",
       "3   38          0               0           1                 2          5   \n",
       "4   32          0               2           1                10          1   \n",
       "5   46          0               2           1                 8          3   \n",
       "6   28          1               2           1                11          2   \n",
       "7   29          0               2           1                18          3   \n",
       "8   31          0               2           1                 1          3   \n",
       "9   25          0               0           1                 7          4   \n",
       "\n",
       "   EducationField  EmployeeID  Gender  JobLevel  ...  TrainingTimesLastYear  \\\n",
       "0               1           1       0         1  ...                      6   \n",
       "1               1           2       0         1  ...                      3   \n",
       "2               4           3       1         4  ...                      2   \n",
       "3               1           4       1         3  ...                      5   \n",
       "4               3           5       1         1  ...                      2   \n",
       "5               1           6       0         4  ...                      5   \n",
       "6               3           7       1         2  ...                      2   \n",
       "7               1           8       1         2  ...                      2   \n",
       "8               1           9       1         3  ...                      2   \n",
       "9               3          10       0         4  ...                      2   \n",
       "\n",
       "   YearsAtCompany  YearsSinceLastPromotion  YearsWithCurrManager  \\\n",
       "0               1                        0                     0   \n",
       "1               5                        1                     4   \n",
       "2               5                        0                     3   \n",
       "3               8                        7                     5   \n",
       "4               6                        0                     4   \n",
       "5               7                        7                     7   \n",
       "6               0                        0                     0   \n",
       "7               0                        0                     0   \n",
       "8               9                        7                     8   \n",
       "9               6                        1                     5   \n",
       "\n",
       "   EnvironmentSatisfaction  JobSatisfaction  WorkLifeBalance  JobInvolvement  \\\n",
       "0                      3.0              4.0              2.0               3   \n",
       "1                      3.0              2.0              4.0               2   \n",
       "2                      2.0              2.0              1.0               3   \n",
       "3                      4.0              4.0              3.0               2   \n",
       "4                      4.0              1.0              3.0               3   \n",
       "5                      3.0              2.0              2.0               3   \n",
       "6                      1.0              3.0              1.0               3   \n",
       "7                      1.0              2.0              3.0               3   \n",
       "8                      2.0              4.0              3.0               3   \n",
       "9                      2.0              1.0              3.0               3   \n",
       "\n",
       "   PerformanceRating  Age_tier  \n",
       "0                  3         3  \n",
       "1                  4         1  \n",
       "2                  3         1  \n",
       "3                  3         1  \n",
       "4                  3         1  \n",
       "5                  3         2  \n",
       "6                  4         0  \n",
       "7                  4         0  \n",
       "8                  4         1  \n",
       "9                  3         0  \n",
       "\n",
       "[10 rows x 27 columns]"
      ]
     },
     "execution_count": 10,
     "metadata": {},
     "output_type": "execute_result"
    }
   ],
   "source": [
    "df_general.head(10)"
   ]
  },
  {
   "cell_type": "code",
   "execution_count": 11,
   "id": "2303a41a",
   "metadata": {},
   "outputs": [],
   "source": [
    "df_general.drop(columns=['Age','DistanceFromHome','EmployeeID',], axis = 1, inplace = True)"
   ]
  },
  {
   "cell_type": "code",
   "execution_count": 30,
   "id": "702cd195",
   "metadata": {
    "scrolled": true
   },
   "outputs": [
    {
     "data": {
      "text/plain": [
       "Index(['Age', 'Attrition', 'BusinessTravel', 'Department', 'DistanceFromHome',\n",
       "       'Education', 'EducationField', 'Gender', 'JobLevel', 'JobRole',\n",
       "       'MaritalStatus', 'MonthlyIncome', 'NumCompaniesWorked',\n",
       "       'PercentSalaryHike', 'StockOptionLevel', 'TotalWorkingYears',\n",
       "       'TrainingTimesLastYear', 'YearsAtCompany', 'YearsSinceLastPromotion',\n",
       "       'YearsWithCurrManager', 'JobInvolvement', 'PerformanceRating',\n",
       "       'EnvironmentSatisfaction', 'JobSatisfaction', 'WorkLifeBalance',\n",
       "       'Age_tier', 'distancehome_tier', 'JobRole_tier', 'MonthlyIncome_tier'],\n",
       "      dtype='object')"
      ]
     },
     "execution_count": 30,
     "metadata": {},
     "output_type": "execute_result"
    }
   ],
   "source": [
    "df_hr.columns"
   ]
  },
  {
   "cell_type": "code",
   "execution_count": 32,
   "id": "d515621c",
   "metadata": {},
   "outputs": [
    {
     "name": "stdout",
     "output_type": "stream",
     "text": [
      "<class 'pandas.core.frame.DataFrame'>\n",
      "RangeIndex: 4382 entries, 0 to 4381\n",
      "Data columns (total 29 columns):\n",
      " #   Column                   Non-Null Count  Dtype  \n",
      "---  ------                   --------------  -----  \n",
      " 0   Age                      4382 non-null   int64  \n",
      " 1   Attrition                4382 non-null   int64  \n",
      " 2   BusinessTravel           4382 non-null   int64  \n",
      " 3   Department               4382 non-null   int64  \n",
      " 4   DistanceFromHome         4382 non-null   int64  \n",
      " 5   Education                4382 non-null   int64  \n",
      " 6   EducationField           4382 non-null   int64  \n",
      " 7   Gender                   4382 non-null   int64  \n",
      " 8   JobLevel                 4382 non-null   int64  \n",
      " 9   JobRole                  4382 non-null   int64  \n",
      " 10  MaritalStatus            4382 non-null   int64  \n",
      " 11  MonthlyIncome            4382 non-null   int64  \n",
      " 12  NumCompaniesWorked       4382 non-null   float64\n",
      " 13  PercentSalaryHike        4382 non-null   int64  \n",
      " 14  StockOptionLevel         4382 non-null   int64  \n",
      " 15  TotalWorkingYears        4382 non-null   float64\n",
      " 16  TrainingTimesLastYear    4382 non-null   int64  \n",
      " 17  YearsAtCompany           4382 non-null   int64  \n",
      " 18  YearsSinceLastPromotion  4382 non-null   int64  \n",
      " 19  YearsWithCurrManager     4382 non-null   int64  \n",
      " 20  JobInvolvement           4382 non-null   int64  \n",
      " 21  PerformanceRating        4382 non-null   int64  \n",
      " 22  EnvironmentSatisfaction  4382 non-null   float64\n",
      " 23  JobSatisfaction          4382 non-null   float64\n",
      " 24  WorkLifeBalance          4382 non-null   float64\n",
      " 25  Age_tier                 4382 non-null   int64  \n",
      " 26  distancehome_tier        4382 non-null   int64  \n",
      " 27  JobRole_tier             4382 non-null   int64  \n",
      " 28  MonthlyIncome_tier       4382 non-null   int64  \n",
      "dtypes: float64(5), int64(24)\n",
      "memory usage: 992.9 KB\n"
     ]
    }
   ],
   "source": [
    "df_hr.info()"
   ]
  },
  {
   "cell_type": "markdown",
   "id": "6b575422",
   "metadata": {},
   "source": [
    "### Set X and y "
   ]
  },
  {
   "cell_type": "code",
   "execution_count": 33,
   "id": "322f38b7",
   "metadata": {},
   "outputs": [
    {
     "name": "stdout",
     "output_type": "stream",
     "text": [
      "(4382, 22) (4382, 1)\n"
     ]
    }
   ],
   "source": [
    "X = df_hr[['BusinessTravel','Department','Education', 'EducationField', 'Gender', 'JobLevel','MaritalStatus','NumCompaniesWorked','PercentSalaryHike', 'StockOptionLevel','TrainingTimesLastYear','YearsSinceLastPromotion','YearsWithCurrManager', 'JobInvolvement', 'PerformanceRating','EnvironmentSatisfaction', 'JobSatisfaction', 'WorkLifeBalance',\n",
    "       'Age_tier', 'distancehome_tier', 'JobRole_tier', 'MonthlyIncome_tier']]\n",
    "y = df_hr[['Attrition']]\n",
    "print(X.shape, y.shape)"
   ]
  },
  {
   "cell_type": "code",
   "execution_count": 34,
   "id": "b9ced9f1",
   "metadata": {
    "scrolled": true
   },
   "outputs": [
    {
     "name": "stdout",
     "output_type": "stream",
     "text": [
      "Requirement already satisfied: imblearn in c:\\users\\dicod\\anaconda3\\lib\\site-packages (0.0)\n",
      "Requirement already satisfied: imbalanced-learn in c:\\users\\dicod\\anaconda3\\lib\\site-packages (from imblearn) (0.9.1)\n",
      "Requirement already satisfied: threadpoolctl>=2.0.0 in c:\\users\\dicod\\anaconda3\\lib\\site-packages (from imbalanced-learn->imblearn) (2.2.0)\n",
      "Requirement already satisfied: numpy>=1.17.3 in c:\\users\\dicod\\anaconda3\\lib\\site-packages (from imbalanced-learn->imblearn) (1.21.5)\n",
      "Requirement already satisfied: joblib>=1.0.0 in c:\\users\\dicod\\anaconda3\\lib\\site-packages (from imbalanced-learn->imblearn) (1.1.0)\n",
      "Requirement already satisfied: scipy>=1.3.2 in c:\\users\\dicod\\anaconda3\\lib\\site-packages (from imbalanced-learn->imblearn) (1.7.3)\n",
      "Requirement already satisfied: scikit-learn>=1.1.0 in c:\\users\\dicod\\anaconda3\\lib\\site-packages (from imbalanced-learn->imblearn) (1.1.2)\n"
     ]
    }
   ],
   "source": [
    "!pip install imblearn"
   ]
  },
  {
   "cell_type": "code",
   "execution_count": 37,
   "id": "d6b9d360",
   "metadata": {
    "scrolled": true
   },
   "outputs": [
    {
     "ename": "ImportError",
     "evalue": "cannot import name '_ClassNamePrefixFeaturesOutMixin' from 'sklearn.base' (C:\\Users\\dicod\\Anaconda3\\lib\\site-packages\\sklearn\\base.py)",
     "output_type": "error",
     "traceback": [
      "\u001b[1;31m---------------------------------------------------------------------------\u001b[0m",
      "\u001b[1;31mImportError\u001b[0m                               Traceback (most recent call last)",
      "Input \u001b[1;32mIn [37]\u001b[0m, in \u001b[0;36m<cell line: 1>\u001b[1;34m()\u001b[0m\n\u001b[1;32m----> 1\u001b[0m \u001b[38;5;28;01mfrom\u001b[39;00m \u001b[38;5;21;01mimblearn\u001b[39;00m\u001b[38;5;21;01m.\u001b[39;00m\u001b[38;5;21;01mover_sampling\u001b[39;00m \u001b[38;5;28;01mimport\u001b[39;00m SMOTE\n\u001b[0;32m      2\u001b[0m smote \u001b[38;5;241m=\u001b[39m SMOTE(sampling_strategy\u001b[38;5;241m=\u001b[39m\u001b[38;5;124m'\u001b[39m\u001b[38;5;124mminority\u001b[39m\u001b[38;5;124m'\u001b[39m)\n\u001b[0;32m      3\u001b[0m X ,y \u001b[38;5;241m=\u001b[39m smote\u001b[38;5;241m.\u001b[39mfit_resample(X ,y)\n",
      "File \u001b[1;32m~\\Anaconda3\\lib\\site-packages\\imblearn\\__init__.py:52\u001b[0m, in \u001b[0;36m<module>\u001b[1;34m\u001b[0m\n\u001b[0;32m     48\u001b[0m     sys\u001b[38;5;241m.\u001b[39mstderr\u001b[38;5;241m.\u001b[39mwrite(\u001b[38;5;124m\"\u001b[39m\u001b[38;5;124mPartial import of imblearn during the build process.\u001b[39m\u001b[38;5;130;01m\\n\u001b[39;00m\u001b[38;5;124m\"\u001b[39m)\n\u001b[0;32m     49\u001b[0m     \u001b[38;5;66;03m# We are not importing the rest of scikit-learn during the build\u001b[39;00m\n\u001b[0;32m     50\u001b[0m     \u001b[38;5;66;03m# process, as it may not be compiled yet\u001b[39;00m\n\u001b[0;32m     51\u001b[0m \u001b[38;5;28;01melse\u001b[39;00m:\n\u001b[1;32m---> 52\u001b[0m     \u001b[38;5;28;01mfrom\u001b[39;00m \u001b[38;5;21;01m.\u001b[39;00m \u001b[38;5;28;01mimport\u001b[39;00m combine\n\u001b[0;32m     53\u001b[0m     \u001b[38;5;28;01mfrom\u001b[39;00m \u001b[38;5;21;01m.\u001b[39;00m \u001b[38;5;28;01mimport\u001b[39;00m ensemble\n\u001b[0;32m     54\u001b[0m     \u001b[38;5;28;01mfrom\u001b[39;00m \u001b[38;5;21;01m.\u001b[39;00m \u001b[38;5;28;01mimport\u001b[39;00m exceptions\n",
      "File \u001b[1;32m~\\Anaconda3\\lib\\site-packages\\imblearn\\combine\\__init__.py:5\u001b[0m, in \u001b[0;36m<module>\u001b[1;34m\u001b[0m\n\u001b[0;32m      1\u001b[0m \u001b[38;5;124;03m\"\"\"The :mod:`imblearn.combine` provides methods which combine\u001b[39;00m\n\u001b[0;32m      2\u001b[0m \u001b[38;5;124;03mover-sampling and under-sampling.\u001b[39;00m\n\u001b[0;32m      3\u001b[0m \u001b[38;5;124;03m\"\"\"\u001b[39;00m\n\u001b[1;32m----> 5\u001b[0m \u001b[38;5;28;01mfrom\u001b[39;00m \u001b[38;5;21;01m.\u001b[39;00m\u001b[38;5;21;01m_smote_enn\u001b[39;00m \u001b[38;5;28;01mimport\u001b[39;00m SMOTEENN\n\u001b[0;32m      6\u001b[0m \u001b[38;5;28;01mfrom\u001b[39;00m \u001b[38;5;21;01m.\u001b[39;00m\u001b[38;5;21;01m_smote_tomek\u001b[39;00m \u001b[38;5;28;01mimport\u001b[39;00m SMOTETomek\n\u001b[0;32m      8\u001b[0m __all__ \u001b[38;5;241m=\u001b[39m [\u001b[38;5;124m\"\u001b[39m\u001b[38;5;124mSMOTEENN\u001b[39m\u001b[38;5;124m\"\u001b[39m, \u001b[38;5;124m\"\u001b[39m\u001b[38;5;124mSMOTETomek\u001b[39m\u001b[38;5;124m\"\u001b[39m]\n",
      "File \u001b[1;32m~\\Anaconda3\\lib\\site-packages\\imblearn\\combine\\_smote_enn.py:11\u001b[0m, in \u001b[0;36m<module>\u001b[1;34m\u001b[0m\n\u001b[0;32m      8\u001b[0m \u001b[38;5;28;01mfrom\u001b[39;00m \u001b[38;5;21;01msklearn\u001b[39;00m\u001b[38;5;21;01m.\u001b[39;00m\u001b[38;5;21;01mutils\u001b[39;00m \u001b[38;5;28;01mimport\u001b[39;00m check_X_y\n\u001b[0;32m     10\u001b[0m \u001b[38;5;28;01mfrom\u001b[39;00m \u001b[38;5;21;01m.\u001b[39;00m\u001b[38;5;21;01m.\u001b[39;00m\u001b[38;5;21;01mbase\u001b[39;00m \u001b[38;5;28;01mimport\u001b[39;00m BaseSampler\n\u001b[1;32m---> 11\u001b[0m \u001b[38;5;28;01mfrom\u001b[39;00m \u001b[38;5;21;01m.\u001b[39;00m\u001b[38;5;21;01m.\u001b[39;00m\u001b[38;5;21;01mover_sampling\u001b[39;00m \u001b[38;5;28;01mimport\u001b[39;00m SMOTE\n\u001b[0;32m     12\u001b[0m \u001b[38;5;28;01mfrom\u001b[39;00m \u001b[38;5;21;01m.\u001b[39;00m\u001b[38;5;21;01m.\u001b[39;00m\u001b[38;5;21;01mover_sampling\u001b[39;00m\u001b[38;5;21;01m.\u001b[39;00m\u001b[38;5;21;01mbase\u001b[39;00m \u001b[38;5;28;01mimport\u001b[39;00m BaseOverSampler\n\u001b[0;32m     13\u001b[0m \u001b[38;5;28;01mfrom\u001b[39;00m \u001b[38;5;21;01m.\u001b[39;00m\u001b[38;5;21;01m.\u001b[39;00m\u001b[38;5;21;01munder_sampling\u001b[39;00m \u001b[38;5;28;01mimport\u001b[39;00m EditedNearestNeighbours\n",
      "File \u001b[1;32m~\\Anaconda3\\lib\\site-packages\\imblearn\\over_sampling\\__init__.py:8\u001b[0m, in \u001b[0;36m<module>\u001b[1;34m\u001b[0m\n\u001b[0;32m      6\u001b[0m \u001b[38;5;28;01mfrom\u001b[39;00m \u001b[38;5;21;01m.\u001b[39;00m\u001b[38;5;21;01m_adasyn\u001b[39;00m \u001b[38;5;28;01mimport\u001b[39;00m ADASYN\n\u001b[0;32m      7\u001b[0m \u001b[38;5;28;01mfrom\u001b[39;00m \u001b[38;5;21;01m.\u001b[39;00m\u001b[38;5;21;01m_random_over_sampler\u001b[39;00m \u001b[38;5;28;01mimport\u001b[39;00m RandomOverSampler\n\u001b[1;32m----> 8\u001b[0m \u001b[38;5;28;01mfrom\u001b[39;00m \u001b[38;5;21;01m.\u001b[39;00m\u001b[38;5;21;01m_smote\u001b[39;00m \u001b[38;5;28;01mimport\u001b[39;00m SMOTE\n\u001b[0;32m      9\u001b[0m \u001b[38;5;28;01mfrom\u001b[39;00m \u001b[38;5;21;01m.\u001b[39;00m\u001b[38;5;21;01m_smote\u001b[39;00m \u001b[38;5;28;01mimport\u001b[39;00m BorderlineSMOTE\n\u001b[0;32m     10\u001b[0m \u001b[38;5;28;01mfrom\u001b[39;00m \u001b[38;5;21;01m.\u001b[39;00m\u001b[38;5;21;01m_smote\u001b[39;00m \u001b[38;5;28;01mimport\u001b[39;00m KMeansSMOTE\n",
      "File \u001b[1;32m~\\Anaconda3\\lib\\site-packages\\imblearn\\over_sampling\\_smote\\__init__.py:5\u001b[0m, in \u001b[0;36m<module>\u001b[1;34m\u001b[0m\n\u001b[0;32m      2\u001b[0m \u001b[38;5;28;01mfrom\u001b[39;00m \u001b[38;5;21;01m.\u001b[39;00m\u001b[38;5;21;01mbase\u001b[39;00m \u001b[38;5;28;01mimport\u001b[39;00m SMOTEN\n\u001b[0;32m      3\u001b[0m \u001b[38;5;28;01mfrom\u001b[39;00m \u001b[38;5;21;01m.\u001b[39;00m\u001b[38;5;21;01mbase\u001b[39;00m \u001b[38;5;28;01mimport\u001b[39;00m SMOTENC\n\u001b[1;32m----> 5\u001b[0m \u001b[38;5;28;01mfrom\u001b[39;00m \u001b[38;5;21;01m.\u001b[39;00m\u001b[38;5;21;01mcluster\u001b[39;00m \u001b[38;5;28;01mimport\u001b[39;00m KMeansSMOTE\n\u001b[0;32m      7\u001b[0m \u001b[38;5;28;01mfrom\u001b[39;00m \u001b[38;5;21;01m.\u001b[39;00m\u001b[38;5;21;01mfilter\u001b[39;00m \u001b[38;5;28;01mimport\u001b[39;00m BorderlineSMOTE\n\u001b[0;32m      8\u001b[0m \u001b[38;5;28;01mfrom\u001b[39;00m \u001b[38;5;21;01m.\u001b[39;00m\u001b[38;5;21;01mfilter\u001b[39;00m \u001b[38;5;28;01mimport\u001b[39;00m SVMSMOTE\n",
      "File \u001b[1;32m~\\Anaconda3\\lib\\site-packages\\imblearn\\over_sampling\\_smote\\cluster.py:14\u001b[0m, in \u001b[0;36m<module>\u001b[1;34m\u001b[0m\n\u001b[0;32m     11\u001b[0m \u001b[38;5;28;01mfrom\u001b[39;00m \u001b[38;5;21;01mscipy\u001b[39;00m \u001b[38;5;28;01mimport\u001b[39;00m sparse\n\u001b[0;32m     13\u001b[0m \u001b[38;5;28;01mfrom\u001b[39;00m \u001b[38;5;21;01msklearn\u001b[39;00m\u001b[38;5;21;01m.\u001b[39;00m\u001b[38;5;21;01mbase\u001b[39;00m \u001b[38;5;28;01mimport\u001b[39;00m clone\n\u001b[1;32m---> 14\u001b[0m \u001b[38;5;28;01mfrom\u001b[39;00m \u001b[38;5;21;01msklearn\u001b[39;00m\u001b[38;5;21;01m.\u001b[39;00m\u001b[38;5;21;01mcluster\u001b[39;00m \u001b[38;5;28;01mimport\u001b[39;00m MiniBatchKMeans\n\u001b[0;32m     15\u001b[0m \u001b[38;5;28;01mfrom\u001b[39;00m \u001b[38;5;21;01msklearn\u001b[39;00m\u001b[38;5;21;01m.\u001b[39;00m\u001b[38;5;21;01mmetrics\u001b[39;00m \u001b[38;5;28;01mimport\u001b[39;00m pairwise_distances\n\u001b[0;32m     16\u001b[0m \u001b[38;5;28;01mfrom\u001b[39;00m \u001b[38;5;21;01msklearn\u001b[39;00m\u001b[38;5;21;01m.\u001b[39;00m\u001b[38;5;21;01mutils\u001b[39;00m \u001b[38;5;28;01mimport\u001b[39;00m _safe_indexing\n",
      "File \u001b[1;32m~\\Anaconda3\\lib\\site-packages\\sklearn\\cluster\\__init__.py:6\u001b[0m, in \u001b[0;36m<module>\u001b[1;34m\u001b[0m\n\u001b[0;32m      1\u001b[0m \u001b[38;5;124;03m\"\"\"\u001b[39;00m\n\u001b[0;32m      2\u001b[0m \u001b[38;5;124;03mThe :mod:`sklearn.cluster` module gathers popular unsupervised clustering\u001b[39;00m\n\u001b[0;32m      3\u001b[0m \u001b[38;5;124;03malgorithms.\u001b[39;00m\n\u001b[0;32m      4\u001b[0m \u001b[38;5;124;03m\"\"\"\u001b[39;00m\n\u001b[1;32m----> 6\u001b[0m \u001b[38;5;28;01mfrom\u001b[39;00m \u001b[38;5;21;01m.\u001b[39;00m\u001b[38;5;21;01m_spectral\u001b[39;00m \u001b[38;5;28;01mimport\u001b[39;00m spectral_clustering, SpectralClustering\n\u001b[0;32m      7\u001b[0m \u001b[38;5;28;01mfrom\u001b[39;00m \u001b[38;5;21;01m.\u001b[39;00m\u001b[38;5;21;01m_mean_shift\u001b[39;00m \u001b[38;5;28;01mimport\u001b[39;00m mean_shift, MeanShift, estimate_bandwidth, get_bin_seeds\n\u001b[0;32m      8\u001b[0m \u001b[38;5;28;01mfrom\u001b[39;00m \u001b[38;5;21;01m.\u001b[39;00m\u001b[38;5;21;01m_affinity_propagation\u001b[39;00m \u001b[38;5;28;01mimport\u001b[39;00m affinity_propagation, AffinityPropagation\n",
      "File \u001b[1;32m~\\Anaconda3\\lib\\site-packages\\sklearn\\cluster\\_spectral.py:22\u001b[0m, in \u001b[0;36m<module>\u001b[1;34m\u001b[0m\n\u001b[0;32m     20\u001b[0m \u001b[38;5;28;01mfrom\u001b[39;00m \u001b[38;5;21;01m.\u001b[39;00m\u001b[38;5;21;01m.\u001b[39;00m\u001b[38;5;21;01mneighbors\u001b[39;00m \u001b[38;5;28;01mimport\u001b[39;00m kneighbors_graph, NearestNeighbors\n\u001b[0;32m     21\u001b[0m \u001b[38;5;28;01mfrom\u001b[39;00m \u001b[38;5;21;01m.\u001b[39;00m\u001b[38;5;21;01m.\u001b[39;00m\u001b[38;5;21;01mmanifold\u001b[39;00m \u001b[38;5;28;01mimport\u001b[39;00m spectral_embedding\n\u001b[1;32m---> 22\u001b[0m \u001b[38;5;28;01mfrom\u001b[39;00m \u001b[38;5;21;01m.\u001b[39;00m\u001b[38;5;21;01m_kmeans\u001b[39;00m \u001b[38;5;28;01mimport\u001b[39;00m k_means\n\u001b[0;32m     25\u001b[0m \u001b[38;5;28;01mdef\u001b[39;00m \u001b[38;5;21mcluster_qr\u001b[39m(vectors):\n\u001b[0;32m     26\u001b[0m     \u001b[38;5;124;03m\"\"\"Find the discrete partition closest to the eigenvector embedding.\u001b[39;00m\n\u001b[0;32m     27\u001b[0m \n\u001b[0;32m     28\u001b[0m \u001b[38;5;124;03m        This implementation was proposed in [1]_.\u001b[39;00m\n\u001b[1;32m   (...)\u001b[0m\n\u001b[0;32m     47\u001b[0m \n\u001b[0;32m     48\u001b[0m \u001b[38;5;124;03m    \"\"\"\u001b[39;00m\n",
      "File \u001b[1;32m~\\Anaconda3\\lib\\site-packages\\sklearn\\cluster\\_kmeans.py:20\u001b[0m, in \u001b[0;36m<module>\u001b[1;34m\u001b[0m\n\u001b[0;32m     17\u001b[0m \u001b[38;5;28;01mimport\u001b[39;00m \u001b[38;5;21;01mnumpy\u001b[39;00m \u001b[38;5;28;01mas\u001b[39;00m \u001b[38;5;21;01mnp\u001b[39;00m\n\u001b[0;32m     18\u001b[0m \u001b[38;5;28;01mimport\u001b[39;00m \u001b[38;5;21;01mscipy\u001b[39;00m\u001b[38;5;21;01m.\u001b[39;00m\u001b[38;5;21;01msparse\u001b[39;00m \u001b[38;5;28;01mas\u001b[39;00m \u001b[38;5;21;01msp\u001b[39;00m\n\u001b[1;32m---> 20\u001b[0m \u001b[38;5;28;01mfrom\u001b[39;00m \u001b[38;5;21;01m.\u001b[39;00m\u001b[38;5;21;01m.\u001b[39;00m\u001b[38;5;21;01mbase\u001b[39;00m \u001b[38;5;28;01mimport\u001b[39;00m (\n\u001b[0;32m     21\u001b[0m     BaseEstimator,\n\u001b[0;32m     22\u001b[0m     ClusterMixin,\n\u001b[0;32m     23\u001b[0m     TransformerMixin,\n\u001b[0;32m     24\u001b[0m     _ClassNamePrefixFeaturesOutMixin,\n\u001b[0;32m     25\u001b[0m )\n\u001b[0;32m     26\u001b[0m \u001b[38;5;28;01mfrom\u001b[39;00m \u001b[38;5;21;01m.\u001b[39;00m\u001b[38;5;21;01m.\u001b[39;00m\u001b[38;5;21;01mmetrics\u001b[39;00m\u001b[38;5;21;01m.\u001b[39;00m\u001b[38;5;21;01mpairwise\u001b[39;00m \u001b[38;5;28;01mimport\u001b[39;00m euclidean_distances\n\u001b[0;32m     27\u001b[0m \u001b[38;5;28;01mfrom\u001b[39;00m \u001b[38;5;21;01m.\u001b[39;00m\u001b[38;5;21;01m.\u001b[39;00m\u001b[38;5;21;01mmetrics\u001b[39;00m\u001b[38;5;21;01m.\u001b[39;00m\u001b[38;5;21;01mpairwise\u001b[39;00m \u001b[38;5;28;01mimport\u001b[39;00m _euclidean_distances\n",
      "\u001b[1;31mImportError\u001b[0m: cannot import name '_ClassNamePrefixFeaturesOutMixin' from 'sklearn.base' (C:\\Users\\dicod\\Anaconda3\\lib\\site-packages\\sklearn\\base.py)"
     ]
    }
   ],
   "source": [
    "from imblearn.over_sampling import SMOTE\n",
    "smote = SMOTE(sampling_strategy='minority')\n",
    "X ,y = smote.fit_resample(X ,y)\n",
    "print(X.shape ,y.shape)"
   ]
  },
  {
   "cell_type": "code",
   "execution_count": 38,
   "id": "f4148a46",
   "metadata": {},
   "outputs": [],
   "source": [
    "from sklearn import decomposition\n",
    "pca = decomposition.PCA(n_components = 2)\n",
    "sklearn_pca_X = pca.fit_transform(X)"
   ]
  },
  {
   "cell_type": "markdown",
   "id": "4b38b9ed",
   "metadata": {},
   "source": [
    "### Scarling and Dimension reduction"
   ]
  },
  {
   "cell_type": "code",
   "execution_count": 39,
   "id": "564eafcb",
   "metadata": {
    "scrolled": true
   },
   "outputs": [
    {
     "data": {
      "text/plain": [
       "array([ 0.590095  ,  1.40151526, -0.89045337, -0.93794569, -1.22288356,\n",
       "       -0.96194289, -0.1360836 , -0.67798151, -1.14963343, -0.93231749,\n",
       "        2.4833987 , -0.67967357, -1.15603522,  0.37927287, -0.42671764,\n",
       "        0.25369366,  1.15721459, -1.08105955,  1.79821965,  0.01150277,\n",
       "        1.73070675,  1.45042972])"
      ]
     },
     "execution_count": 39,
     "metadata": {},
     "output_type": "execute_result"
    }
   ],
   "source": [
    "# Scarlings\n",
    "scaler = StandardScaler()\n",
    "X_std = scaler.fit_transform(X)\n",
    "X_std[0]"
   ]
  },
  {
   "cell_type": "code",
   "execution_count": 40,
   "id": "5e20a640",
   "metadata": {},
   "outputs": [
    {
     "data": {
      "text/plain": [
       "(22,)"
      ]
     },
     "execution_count": 40,
     "metadata": {},
     "output_type": "execute_result"
    }
   ],
   "source": [
    "# for reduce the dimension\n",
    "X_std[0].shape"
   ]
  },
  {
   "cell_type": "code",
   "execution_count": 41,
   "id": "380aac2f",
   "metadata": {},
   "outputs": [
    {
     "data": {
      "text/plain": [
       "array([[ 0.590095  , -0.91240139, -0.91240139, ...,  0.590095  ,\n",
       "         0.590095  ,  0.590095  ],\n",
       "       [ 1.40151526, -0.49457608, -0.49457608, ..., -0.49457608,\n",
       "        -0.49457608,  1.40151526],\n",
       "       [-0.89045337, -1.86643304,  1.06150595, ...,  1.06150595,\n",
       "        -0.89045337, -0.89045337],\n",
       "       ...,\n",
       "       [ 0.01150277,  0.01150277, -0.92192545, ...,  0.94493098,\n",
       "        -1.85535366, -0.92192545],\n",
       "       [ 1.73070675, -0.8156694 , -0.8156694 , ...,  0.8819147 ,\n",
       "        -0.8156694 ,  0.8819147 ],\n",
       "       [ 1.45042972, -0.07319081,  1.45042972, ..., -0.83500107,\n",
       "        -0.07319081, -1.59681134]])"
      ]
     },
     "execution_count": 41,
     "metadata": {},
     "output_type": "execute_result"
    }
   ],
   "source": [
    "X_std.T"
   ]
  },
  {
   "cell_type": "code",
   "execution_count": 42,
   "id": "a0e9fc63",
   "metadata": {},
   "outputs": [
    {
     "name": "stdout",
     "output_type": "stream",
     "text": [
      "[[ 1.00022826e+00 -9.16548493e-03  3.07495807e-03 -1.66775019e-02\n",
      "  -3.89512141e-02  4.58836046e-02  2.71945298e-02  2.40516547e-02\n",
      "  -3.08535432e-02  5.44485096e-03 -4.15470537e-02 -3.31931737e-02\n",
      "  -2.31388241e-02  2.49542471e-03 -1.70045348e-02  2.73357737e-03\n",
      "  -3.20627977e-02 -1.11259316e-02 -2.66230881e-03 -2.15150758e-02\n",
      "   2.41149578e-02 -1.74148971e-02]\n",
      " [-9.16548493e-03  1.00022826e+00 -3.73299181e-03  1.48134932e-02\n",
      "   2.68017229e-03  4.29080062e-03 -4.47736263e-02 -4.23369016e-03\n",
      "  -6.82477677e-03  9.52422129e-03  1.26162841e-02  1.39443878e-02\n",
      "   1.69463506e-02  6.12215356e-03 -2.40588416e-02 -7.86884306e-03\n",
      "   2.77277098e-02  2.13120039e-02 -2.74845095e-02 -5.21734547e-03\n",
      "   2.77734489e-02 -3.91740808e-02]\n",
      " [ 3.07495807e-03 -3.73299181e-03  1.00022826e+00  1.40576664e-02\n",
      "  -1.76750731e-02  4.58319610e-02  2.44678084e-02 -1.62140396e-02\n",
      "  -4.10636937e-02  2.38691115e-03  9.94153063e-03  2.34622078e-02\n",
      "   5.64605883e-03 -1.92780766e-02 -3.57003126e-02 -4.41380094e-02\n",
      "  -5.00427094e-03 -6.77297406e-03 -2.22579506e-02  1.39880250e-02\n",
      "  -1.89061631e-02 -4.60044569e-03]\n",
      " [-1.66775019e-02  1.48134932e-02  1.40576664e-02  1.00022826e+00\n",
      "  -4.20688736e-03 -2.16062431e-02 -5.11862159e-02  1.00466141e-02\n",
      "  -1.07388046e-02  2.08330020e-02 -2.17732437e-02  4.91048896e-02\n",
      "   2.11779259e-02  1.51908145e-02 -6.09869053e-03 -1.12994270e-02\n",
      "  -2.28030044e-02 -2.85406802e-02  2.78901523e-02  2.53731599e-02\n",
      "  -9.28720335e-03  1.69369268e-03]\n",
      " [-3.89512141e-02  2.68017229e-03 -1.76750731e-02 -4.20688736e-03\n",
      "   1.00022826e+00 -2.60253115e-02 -8.09799827e-03 -6.68749798e-02\n",
      "   1.32101678e-02  2.20476654e-02 -3.26044178e-02 -2.30229974e-02\n",
      "   2.68880023e-03  2.53919499e-02  5.22489843e-02 -2.26412271e-02\n",
      "   1.67220675e-02 -3.38441650e-02 -1.21338041e-02  3.23305515e-02\n",
      "  -9.30075323e-03  5.92851909e-03]\n",
      " [ 4.58836046e-02  4.29080062e-03  4.58319610e-02 -2.16062431e-02\n",
      "  -2.60253115e-02  1.00022826e+00 -2.37075059e-02 -9.76092694e-03\n",
      "   1.08766616e-02  3.65158350e-04 -3.19382771e-02 -5.96934487e-02\n",
      "  -5.39100005e-02 -1.40968152e-02 -1.79005786e-03 -2.42864801e-02\n",
      "  -1.78836554e-02 -2.51726539e-02  2.32821077e-02  4.20833267e-02\n",
      "   2.08332077e-02  4.26236799e-02]\n",
      " [ 2.71945298e-02 -4.47736263e-02  2.44678084e-02 -5.11862159e-02\n",
      "  -8.09799827e-03 -2.37075059e-02  1.00022826e+00 -3.75333133e-02\n",
      "   6.43945666e-03  1.33426180e-02  1.54734549e-02 -3.06040891e-02\n",
      "  -3.65480773e-02 -4.29880901e-03  6.92836253e-03 -1.71368800e-03\n",
      "   2.35249326e-02  1.48831039e-02  3.80498674e-02  2.72684240e-02\n",
      "  -1.56766050e-02 -6.76493249e-02]\n",
      " [ 2.40516547e-02 -4.23369016e-03 -1.62140396e-02  1.00466141e-02\n",
      "  -6.68749798e-02 -9.76092694e-03 -3.75333133e-02  1.00022826e+00\n",
      "   3.00708255e-02  1.62950063e-02 -3.13418893e-02 -3.58632150e-02\n",
      "  -1.09396877e-01  2.86520974e-02  1.67168852e-02  1.22415348e-02\n",
      "  -5.68358059e-02 -8.99010010e-03  1.98973624e-01  2.39238122e-02\n",
      "   2.30822577e-02 -4.16961886e-02]\n",
      " [-3.08535432e-02 -6.82477677e-03 -4.10636937e-02 -1.07388046e-02\n",
      "   1.32101678e-02  1.08766616e-02  6.43945666e-03  3.00708255e-02\n",
      "   1.00022826e+00  1.21068240e-02 -3.67281088e-02 -2.86602981e-02\n",
      "  -3.96963784e-02 -3.96773557e-03  7.73753045e-01  1.00681095e-03\n",
      "   3.16424830e-02 -3.99297362e-02  1.07877466e-02 -3.55217724e-02\n",
      "   4.28572218e-03  5.80755361e-03]\n",
      " [ 5.44485096e-03  9.52422129e-03  2.38691115e-03  2.08330020e-02\n",
      "   2.20476654e-02  3.65158350e-04  1.33426180e-02  1.62950063e-02\n",
      "   1.21068240e-02  1.00022826e+00 -6.80436233e-02  1.98931591e-02\n",
      "   1.94020318e-02  1.18490742e-02 -3.66234833e-02 -4.52550942e-03\n",
      "   3.98774151e-02 -2.15197977e-02 -1.27243797e-02 -1.30219599e-02\n",
      "  -2.88969904e-02  3.60035570e-02]\n",
      " [-4.15470537e-02  1.26162841e-02  9.94153063e-03 -2.17732437e-02\n",
      "  -3.26044178e-02 -3.19382771e-02  1.54734549e-02 -3.13418893e-02\n",
      "  -3.67281088e-02 -6.80436233e-02  1.00022826e+00  1.53434595e-02\n",
      "  -1.57956582e-02 -9.77873948e-03 -2.24771028e-02  1.87498092e-02\n",
      "  -2.12621656e-02 -1.63797514e-02 -2.97285622e-02  1.50562716e-02\n",
      "  -4.36546208e-02  2.79099161e-02]\n",
      " [-3.31931737e-02  1.39443878e-02  2.34622078e-02  4.91048896e-02\n",
      "  -2.30229974e-02 -5.96934487e-02 -3.06040891e-02 -3.58632150e-02\n",
      "  -2.86602981e-02  1.98931591e-02  1.53434595e-02  1.00022826e+00\n",
      "   5.10457876e-01  2.65362263e-02 -1.96861076e-02  1.55571565e-02\n",
      "  -1.63152185e-02  8.98146728e-03  1.46717774e-01  2.99653487e-03\n",
      "   1.61489721e-02  5.65299457e-02]\n",
      " [-2.31388241e-02  1.69463506e-02  5.64605883e-03  2.11779259e-02\n",
      "   2.68880023e-03 -5.39100005e-02 -3.65480773e-02 -1.09396877e-01\n",
      "  -3.96963784e-02  1.94020318e-02 -1.57956582e-02  5.10457876e-01\n",
      "   1.00022826e+00 -3.32624864e-03 -9.24467939e-03 -6.19308420e-03\n",
      "  -2.50360999e-02  8.06822357e-03  9.00717015e-02 -2.51421188e-02\n",
      "  -1.29960000e-02  2.21119285e-02]\n",
      " [ 2.49542471e-03  6.12215356e-03 -1.92780766e-02  1.51908145e-02\n",
      "   2.53919499e-02 -1.40968152e-02 -4.29880901e-03  2.86520974e-02\n",
      "  -3.96773557e-03  1.18490742e-02 -9.77873948e-03  2.65362263e-02\n",
      "  -3.32624864e-03  1.00022826e+00  1.14970038e-02  1.68054710e-02\n",
      "   3.95274230e-03 -1.79837721e-02  1.96369915e-02  1.33317657e-03\n",
      "   3.24215299e-02  2.06690980e-02]\n",
      " [-1.70045348e-02 -2.40588416e-02 -3.57003126e-02 -6.09869053e-03\n",
      "   5.22489843e-02 -1.79005786e-03  6.92836253e-03  1.67168852e-02\n",
      "   7.73753045e-01 -3.66234833e-02 -2.24771028e-02 -1.96861076e-02\n",
      "  -9.24467939e-03  1.14970038e-02  1.00022826e+00  1.42547868e-02\n",
      "   4.47085084e-02 -2.26139943e-02  9.69865802e-03 -3.40452301e-02\n",
      "  -4.11079333e-03  1.35597931e-02]\n",
      " [ 2.73357737e-03 -7.86884306e-03 -4.41380094e-02 -1.12994270e-02\n",
      "  -2.26412271e-02 -2.42864801e-02 -1.71368800e-03  1.22415348e-02\n",
      "   1.00681095e-03 -4.52550942e-03  1.87498092e-02  1.55571565e-02\n",
      "  -6.19308420e-03  1.68054710e-02  1.42547868e-02  1.00022826e+00\n",
      "  -5.65955282e-03  2.39579378e-02  1.11689221e-02 -2.34943419e-02\n",
      "   2.69428675e-02  5.30922318e-04]\n",
      " [-3.20627977e-02  2.77277098e-02 -5.00427094e-03 -2.28030044e-02\n",
      "   1.67220675e-02 -1.78836554e-02  2.35249326e-02 -5.68358059e-02\n",
      "   3.16424830e-02  3.98774151e-02 -2.12621656e-02 -1.63152185e-02\n",
      "  -2.50360999e-02  3.95274230e-03  4.47085084e-02 -5.65955282e-03\n",
      "   1.00022826e+00 -2.01702644e-02  8.96397784e-03  9.89539016e-03\n",
      "   2.69635565e-02 -1.36548400e-03]\n",
      " [-1.11259316e-02  2.13120039e-02 -6.77297406e-03 -2.85406802e-02\n",
      "  -3.38441650e-02 -2.51726539e-02  1.48831039e-02 -8.99010010e-03\n",
      "  -3.99297362e-02 -2.15197977e-02 -1.63797514e-02  8.98146728e-03\n",
      "   8.06822357e-03 -1.79837721e-02 -2.26139943e-02  2.39579378e-02\n",
      "  -2.01702644e-02  1.00022826e+00  1.93726440e-02 -7.31894440e-03\n",
      "  -1.05473871e-02  2.96035886e-02]\n",
      " [-2.66230881e-03 -2.74845095e-02 -2.22579506e-02  2.78901523e-02\n",
      "  -1.21338041e-02  2.32821077e-02  3.80498674e-02  1.98973624e-01\n",
      "   1.07877466e-02 -1.27243797e-02 -2.97285622e-02  1.46717774e-01\n",
      "   9.00717015e-02  1.96369915e-02  9.69865802e-03  1.11689221e-02\n",
      "   8.96397784e-03  1.93726440e-02  1.00022826e+00  8.93192580e-03\n",
      "  -2.53655580e-02 -1.51718480e-02]\n",
      " [-2.15150758e-02 -5.21734547e-03  1.39880250e-02  2.53731599e-02\n",
      "   3.23305515e-02  4.20833267e-02  2.72684240e-02  2.39238122e-02\n",
      "  -3.55217724e-02 -1.30219599e-02  1.50562716e-02  2.99653487e-03\n",
      "  -2.51421188e-02  1.33317657e-03 -3.40452301e-02 -2.34943419e-02\n",
      "   9.89539016e-03 -7.31894440e-03  8.93192580e-03  1.00022826e+00\n",
      "  -2.37039536e-03  2.53514189e-02]\n",
      " [ 2.41149578e-02  2.77734489e-02 -1.89061631e-02 -9.28720335e-03\n",
      "  -9.30075323e-03  2.08332077e-02 -1.56766050e-02  2.30822577e-02\n",
      "   4.28572218e-03 -2.88969904e-02 -4.36546208e-02  1.61489721e-02\n",
      "  -1.29960000e-02  3.24215299e-02 -4.11079333e-03  2.69428675e-02\n",
      "   2.69635565e-02 -1.05473871e-02 -2.53655580e-02 -2.37039536e-03\n",
      "   1.00022826e+00 -1.23347829e-02]\n",
      " [-1.74148971e-02 -3.91740808e-02 -4.60044569e-03  1.69369268e-03\n",
      "   5.92851909e-03  4.26236799e-02 -6.76493249e-02 -4.16961886e-02\n",
      "   5.80755361e-03  3.60035570e-02  2.79099161e-02  5.65299457e-02\n",
      "   2.21119285e-02  2.06690980e-02  1.35597931e-02  5.30922318e-04\n",
      "  -1.36548400e-03  2.96035886e-02 -1.51718480e-02  2.53514189e-02\n",
      "  -1.23347829e-02  1.00022826e+00]]\n"
     ]
    }
   ],
   "source": [
    "# Covariance Matrix of features\n",
    "features = X_std.T\n",
    "covariance_matrix = np.cov(features)\n",
    "print(covariance_matrix)"
   ]
  },
  {
   "cell_type": "code",
   "execution_count": 18,
   "id": "d7914b6a",
   "metadata": {},
   "outputs": [],
   "source": [
    "# Eigen Vectors and Eigen Values from Covariance Matrix\n",
    "eig_vals, eig_vecs = np.linalg.eig(covariance_matrix)"
   ]
  },
  {
   "cell_type": "code",
   "execution_count": 43,
   "id": "3062959c",
   "metadata": {},
   "outputs": [
    {
     "name": "stdout",
     "output_type": "stream",
     "text": [
      "\n",
      "Eigenvators \n",
      "[[ 4.02795611e-01  1.28524153e-02 -3.40461485e-02 -2.05688842e-01\n",
      "   1.74101267e-01  3.19267738e-01 -8.25896618e-03  2.85247299e-03\n",
      "  -4.12043749e-02  3.64246418e-01  6.49955664e-01 -2.13043404e-01\n",
      "   6.03437116e-02 -1.20572224e-02 -1.89935142e-01 -2.95522546e-02\n",
      "   5.76759060e-03  3.90405566e-02  1.43102121e-02  6.00960840e-03\n",
      "   9.88788600e-02  1.60385195e-02  4.60278089e-02  4.48300531e-02\n",
      "   2.66057972e-02  1.53515640e-02  4.15687755e-02 -1.52660940e-02]\n",
      " [ 4.82718010e-04  5.60922634e-02 -1.74736724e-02 -4.92542426e-02\n",
      "  -2.50433211e-02  8.07878553e-02 -1.92790318e-03  2.43817009e-03\n",
      "  -1.59887055e-02  2.13236766e-03 -4.55096437e-03  1.96795737e-02\n",
      "  -4.94508623e-02  4.69766692e-02 -5.44393965e-03 -2.38837243e-01\n",
      "   5.18971580e-02 -4.39702371e-01  6.06984042e-02 -3.52566092e-01\n",
      "  -4.04735037e-01 -9.73163980e-02  3.22233662e-01  3.05476650e-01\n",
      "  -3.48804430e-01 -2.38196850e-02  9.89221307e-02 -3.13205659e-01]\n",
      " [-1.61731758e-03  4.09105559e-02 -2.13071696e-02 -6.17928245e-03\n",
      "  -5.67471680e-02 -4.94043037e-02  1.65377036e-03  4.64822313e-03\n",
      "   5.95853399e-03 -5.71944143e-03 -1.42982571e-02 -1.17514041e-02\n",
      "   2.19178888e-02 -1.46385912e-02 -6.16317132e-02  3.07284650e-01\n",
      "   1.18851767e-01  1.92783272e-01 -2.86398018e-01  8.35905219e-02\n",
      "   8.39776240e-02  5.69065317e-01  3.89058687e-01 -9.76392182e-02\n",
      "  -2.20454171e-01 -2.61373169e-01 -6.32723314e-02 -3.73910490e-01]\n",
      " [ 2.35368266e-02  4.49166625e-01  4.78450123e-01  1.32036730e-01\n",
      "  -1.28564385e-01  1.67746039e-01 -3.72823939e-02 -7.05566253e-01\n",
      "   2.62370319e-02 -1.06961175e-03  1.64243146e-03 -2.56365004e-03\n",
      "  -7.02680158e-03  1.75614171e-02  3.57298935e-02 -1.68671566e-03\n",
      "   2.24694880e-02 -4.62296325e-03  1.65131684e-03  2.97903746e-02\n",
      "   4.97369737e-02 -1.76249996e-02  1.52803766e-02  8.39952466e-03\n",
      "   1.63008488e-02 -1.61857496e-02  1.27355165e-03  9.77952725e-03]\n",
      " [-6.63810857e-03 -4.78410271e-02  6.25296738e-03  1.32599562e-03\n",
      "  -7.68351351e-02 -1.90833049e-02  7.46064445e-03  4.42476001e-03\n",
      "   7.40618512e-03  6.71471897e-03  1.22471578e-02  3.79186215e-03\n",
      "  -8.43288000e-03 -3.10399690e-02 -9.15883596e-02  1.67477112e-02\n",
      "   8.50747382e-02 -4.18817512e-01 -1.10753470e-01 -4.74024359e-01\n",
      "   3.35314511e-01 -3.18065866e-02  1.46227709e-01 -1.99109092e-01\n",
      "   3.63307887e-01 -2.99566608e-01 -3.88803749e-01  1.19702219e-01]\n",
      " [ 3.44756582e-02 -3.72321138e-02 -1.69326535e-02 -5.09245221e-03\n",
      "   4.23556517e-03  6.45840622e-03  2.89965607e-03 -3.98563721e-04\n",
      "   6.43424006e-03 -4.23029485e-03 -1.04740204e-02  1.17996600e-02\n",
      "   1.62920866e-02 -6.08671699e-02  1.13884902e-01 -1.28174940e-01\n",
      "   2.68037721e-01  1.64842036e-01 -4.25543532e-01  2.28075557e-01\n",
      "  -8.95520139e-02 -1.63169934e-01  2.65443580e-01  5.21135005e-01\n",
      "   9.00825977e-02  6.25135047e-02 -4.13952090e-01  2.66794439e-01]\n",
      " [-2.55203374e-02 -3.31366040e-02 -1.49752856e-02  2.33716739e-02\n",
      "   4.37582350e-02 -1.02558386e-01 -3.92124391e-03 -6.37967514e-03\n",
      "   2.74250332e-04  1.68695501e-02  1.84912357e-02  3.47079778e-02\n",
      "   7.57613217e-03  2.37933707e-02  2.24277396e-01 -1.73677027e-01\n",
      "   3.20567549e-01  2.80186084e-01  1.54307917e-01 -1.06484896e-01\n",
      "   1.73612395e-01 -2.02087547e-01  4.97395703e-01 -1.20566673e-01\n",
      "   1.47999733e-01 -1.73453501e-01  5.27167014e-01  1.51129032e-01]\n",
      " [-3.74878583e-02 -3.31532158e-02 -5.84465027e-02  1.59622784e-02\n",
      "   5.62495135e-02  1.00351096e-01  4.61679692e-03  1.18651127e-03\n",
      "   4.96071020e-03  5.36636945e-03  1.15249373e-03 -8.33592824e-03\n",
      "   2.00004696e-02  3.35314324e-03  2.52945091e-01 -1.54850929e-01\n",
      "   1.43476515e-01 -5.02704226e-01 -1.54352562e-01  4.95920712e-01\n",
      "   5.85030415e-02  1.41898818e-01 -6.31658397e-02  4.75701192e-03\n",
      "   4.16369433e-01  2.30037962e-03  2.40897171e-01 -3.00070590e-01]\n",
      " [-2.56396363e-03 -4.46684847e-01  4.93363579e-01 -2.15880431e-01\n",
      "   9.54484497e-03 -3.50336678e-02 -7.05736784e-01  3.51039539e-02\n",
      "   1.39022472e-02  7.85470393e-03 -1.85631203e-02  9.68857136e-04\n",
      "   2.09494751e-02  6.59756315e-03  3.08585760e-02  3.02708191e-02\n",
      "   1.94569315e-02  4.04461105e-03 -1.00638796e-02 -1.88289495e-02\n",
      "  -3.87691598e-02  1.90983342e-02 -2.05507859e-02  2.38770548e-02\n",
      "   1.36696267e-02 -9.80451167e-03  1.71770424e-02 -5.09748090e-02]\n",
      " [-5.38065079e-02 -7.95363822e-03 -2.24546793e-03 -8.32316471e-02\n",
      "  -9.85894573e-03 -7.72053102e-02  3.13756076e-03 -1.38141444e-03\n",
      "   9.63830203e-03  3.64713114e-02  6.78699236e-02 -2.02850217e-02\n",
      "   8.67153463e-02 -6.90720765e-02  1.77994451e-01  2.94961442e-01\n",
      "  -1.64699780e-01 -1.95310599e-01  5.90844237e-01  3.99299586e-01\n",
      "   7.78878414e-02 -1.58142524e-01  3.14811258e-01  7.19889228e-02\n",
      "  -1.24275994e-01 -1.87377791e-01 -2.89868405e-01  5.35884236e-02]\n",
      " [-6.74254218e-03 -2.64056832e-01  2.73014272e-02  5.60583403e-01\n",
      "   1.26278667e-01  2.92362362e-01 -1.36755623e-02 -2.28966577e-02\n",
      "  -7.04644504e-01 -3.99923845e-02 -1.28692982e-02 -8.73717573e-03\n",
      "   2.12301277e-03 -2.96566874e-02  1.40127583e-02  7.88771047e-02\n",
      "  -1.22034860e-02 -1.67486861e-03  3.62380566e-02 -1.41865386e-02\n",
      "   2.31939234e-02 -6.89102753e-04  4.95297902e-02  1.73711914e-02\n",
      "  -4.57478174e-02 -5.95209301e-03 -1.75580332e-02  5.72019931e-03]\n",
      " [ 8.80013824e-02  4.44818344e-02 -6.58455584e-02 -2.04742723e-01\n",
      "   2.13331339e-01  3.55425377e-01  1.83575076e-03  8.18642189e-03\n",
      "   1.89210302e-02  9.54062932e-02 -1.00780266e-01  4.19082094e-02\n",
      "  -1.94045764e-01 -2.88143303e-02  7.15813644e-01  9.42083042e-02\n",
      "  -1.12008968e-02  5.16314333e-02 -1.14327936e-01 -1.52516700e-01\n",
      "  -1.15983780e-01 -3.93144759e-03 -8.24066267e-02 -2.83319582e-01\n",
      "  -1.52766757e-01 -2.93557436e-02 -1.56087629e-01  5.27022044e-02]\n",
      " [-3.14078876e-02  1.41040082e-01  1.21449291e-01  6.87017084e-02\n",
      "   6.06186566e-01 -2.78536687e-01 -1.42269103e-02  2.44579538e-04\n",
      "  -1.55760227e-02 -4.06087968e-02  2.56179784e-01  6.54660649e-01\n",
      "   7.48401920e-03  2.24472824e-02 -4.75076919e-02 -2.31827898e-02\n",
      "  -2.87885468e-02 -6.02150337e-02 -5.29374009e-02  1.20540018e-02\n",
      "  -2.73829632e-02  3.14011485e-02  3.18107718e-03 -4.00820866e-02\n",
      "  -2.57930984e-02 -1.31095073e-02 -5.78539272e-02  3.21915922e-03]\n",
      " [ 2.54098029e-03 -2.75231691e-02  3.10958012e-02  3.96972456e-02\n",
      "  -1.53639079e-02  9.16385435e-04 -3.88674603e-03 -1.96567237e-03\n",
      "  -8.36173888e-03  1.50942480e-02  1.28936216e-03 -4.87394981e-02\n",
      "   5.80917211e-03 -9.43695478e-03 -1.66533406e-01 -3.66989587e-01\n",
      "   5.15028216e-01  1.88068549e-02  2.46600613e-01  1.69232479e-01\n",
      "  -2.45163192e-01  1.05571087e-01  2.81039525e-02 -4.95754421e-01\n",
      "  -9.60981115e-02  1.82516719e-01 -3.40294973e-01 -2.28015181e-03]\n",
      " [ 4.79937177e-01  1.46393502e-02 -2.51067144e-02 -7.14615008e-02\n",
      "   7.50746087e-02  8.15331927e-02  6.53084038e-03 -1.10617163e-02\n",
      "   2.22000584e-02 -4.91064171e-01 -1.45882152e-01  2.69913371e-02\n",
      "   6.52004437e-01 -2.29692312e-01  4.75696184e-02 -2.01608256e-02\n",
      "   5.91401176e-03 -2.73212304e-02  1.21625835e-02 -5.31243106e-02\n",
      "   8.05033080e-03  4.65180683e-03 -1.58795841e-03 -3.56631764e-02\n",
      "  -3.02399976e-02  1.18644216e-02  2.99921435e-02  2.86964055e-03]\n",
      " [-2.18330311e-02 -7.84661761e-02  3.71985863e-02  3.34050016e-02\n",
      "  -5.53854536e-02 -2.43735004e-03  7.18100266e-03  4.39175352e-03\n",
      "   1.65704451e-02 -8.65694025e-03 -9.50544114e-05  1.27759857e-02\n",
      "  -5.06103926e-03 -4.60954897e-02  5.71924543e-02 -5.73302659e-01\n",
      "  -4.86237686e-01  1.42454021e-01 -1.44203594e-01  1.12494947e-01\n",
      "   3.64943894e-01 -1.75544321e-01  1.69137475e-01 -1.61978607e-01\n",
      "  -1.68448509e-01  3.82100082e-02 -1.69279779e-01 -2.92587324e-01]\n",
      " [ 4.52408054e-01 -1.32337495e-02  2.28752234e-02  1.52359737e-01\n",
      "  -1.26309812e-01 -2.79379193e-01  1.14474418e-02 -3.89061705e-03\n",
      "  -4.51481040e-02  6.74668231e-01 -3.70994551e-01  1.93252692e-01\n",
      "   8.60773299e-02 -1.74957111e-01  3.77037105e-02 -2.97933306e-03\n",
      "  -1.15970569e-02 -4.71736795e-02  4.18362047e-03  4.91205939e-03\n",
      "  -2.67301055e-02  1.45779391e-03 -3.17977863e-02  4.62802562e-03\n",
      "  -1.80981083e-03  9.40891062e-03  2.35935835e-02 -2.85309558e-02]\n",
      " [ 3.62403331e-01 -4.81129141e-02  1.85418948e-03  1.76881607e-01\n",
      "  -1.06060826e-01 -2.24820486e-01 -7.27871117e-04  9.97088650e-03\n",
      "   1.80466536e-02 -1.17352013e-01  1.01633414e-01 -6.54994665e-02\n",
      "   1.76852683e-02  8.33837969e-01  1.79720075e-01  2.55032057e-02\n",
      "  -2.84420624e-02 -1.04744778e-02 -2.23004553e-02  2.03672816e-02\n",
      "  -4.07974632e-02 -3.13909658e-02 -1.10954296e-02 -3.61684543e-02\n",
      "   8.11770346e-04 -2.44931018e-02 -9.40626749e-02 -2.32406993e-02]\n",
      " [ 3.85805619e-01 -3.82890602e-02  3.94311138e-02  1.76145335e-01\n",
      "  -1.50398532e-01 -3.14003230e-01 -1.07228674e-02  1.02416150e-03\n",
      "   2.77560867e-02 -3.36015496e-01  2.65170777e-01 -9.44302763e-02\n",
      "  -5.53744818e-01 -4.14859688e-01  1.14845127e-01  3.39747900e-02\n",
      "   3.50250271e-03 -5.55434686e-02 -9.39794512e-03  2.04947646e-02\n",
      "  -5.45158273e-02 -8.31181611e-03 -2.34249701e-02 -2.74128079e-02\n",
      "  -1.86092821e-02  8.68993153e-03  3.46664936e-02 -1.43756291e-02]\n",
      " [ 1.49750003e-02  1.58022508e-02 -3.48385650e-02  3.14423748e-02\n",
      "   3.04379936e-02  3.76198236e-02  3.04052190e-03 -1.93810115e-03\n",
      "   1.71734500e-03 -8.90778878e-03  6.31472144e-03  1.26277588e-02\n",
      "   7.94910355e-03 -4.23142862e-02 -5.67900750e-02 -5.81351605e-02\n",
      "   1.44496166e-01  2.67538816e-01  5.36703901e-02  4.05545065e-02\n",
      "  -1.88746967e-01 -3.31636898e-01 -3.35320660e-01  6.75813380e-02\n",
      "   1.16123966e-01 -6.73916360e-01 -1.04585662e-01 -3.84767031e-01]\n",
      " [-2.07866377e-02  1.30408784e-01  1.28058128e-01  7.75148670e-02\n",
      "   6.03853468e-01 -2.89997491e-01  9.11171353e-03  2.74574754e-03\n",
      "   1.33254275e-02  5.01535265e-02 -2.23748113e-01 -6.67057832e-01\n",
      "  -7.48690819e-04 -2.14157638e-02 -1.66255239e-02 -4.00181334e-02\n",
      "  -5.61302744e-02 -4.43292563e-02 -4.22483101e-02 -2.88554504e-02\n",
      "  -1.74710871e-02  5.73018187e-03  2.79282230e-02  8.87637526e-03\n",
      "  -2.02645077e-03 -4.33239245e-02 -2.09764232e-02  3.91969573e-03]\n",
      " [ 5.91292314e-03  4.73359331e-02 -1.33660163e-03  1.15296937e-02\n",
      "   8.54272722e-03  2.27813115e-02  1.30281575e-03 -1.87064295e-03\n",
      "  -5.30628108e-03 -6.16532405e-03  3.24655454e-03  1.21019770e-02\n",
      "   9.84758829e-03 -3.63632995e-02  9.35887372e-03  1.16281721e-01\n",
      "  -2.89978437e-01  2.44414678e-01  1.12234092e-01 -1.34259599e-01\n",
      "  -4.12762103e-01  6.04645345e-04  2.96458876e-01 -7.63214203e-02\n",
      "   6.09292306e-01  2.76291311e-01 -1.33137516e-01 -2.79119153e-01]\n",
      " [-1.37734778e-02  1.91297546e-02 -2.04313280e-02  1.99904673e-02\n",
      "   5.48135455e-02 -5.97952119e-02  5.92864711e-03 -1.40257408e-03\n",
      "   6.89429682e-03 -1.32144668e-02  6.92926892e-03  1.40988592e-02\n",
      "  -2.01606822e-02 -4.41255886e-03  2.48760377e-01 -1.46625423e-01\n",
      "   2.25283703e-01  1.68021862e-01  4.03238288e-01 -2.56298511e-01\n",
      "   3.69558291e-01  3.21387833e-01 -1.97861002e-01  4.19018962e-01\n",
      "   8.19209389e-02  1.97970313e-01 -1.63925803e-01 -2.70362980e-01]\n",
      " [ 5.93463771e-03 -1.92282965e-02  2.06244145e-02  1.42341578e-02\n",
      "  -5.62424384e-02  2.29531696e-02  7.23967663e-03  7.46914102e-04\n",
      "  -2.27121736e-02  4.33924326e-03  3.75800925e-02  3.92761872e-03\n",
      "   1.12840189e-02 -7.28884670e-03  7.35691301e-02 -4.02000075e-01\n",
      "  -2.96847447e-01  3.01049185e-02  1.39912771e-01  1.58040145e-02\n",
      "  -2.69735416e-01  5.41454116e-01 -1.53717837e-02  1.05849842e-01\n",
      "   1.11402031e-01 -4.01699777e-01  2.47527474e-02  4.06766062e-01]\n",
      " [ 3.24002328e-01 -7.68938023e-03 -2.51954685e-02 -2.00285569e-01\n",
      "   2.14986329e-01  3.26941830e-01  3.45160646e-03  2.25170341e-03\n",
      "   2.67295759e-02 -1.53773884e-01 -4.51704083e-01  1.48539462e-01\n",
      "  -4.53350284e-01  1.62692946e-01 -3.50238157e-01 -2.53051514e-02\n",
      "  -1.41018985e-02  1.93181838e-02  1.50612671e-01  1.29935967e-01\n",
      "   1.46916971e-01  2.46993466e-02  1.27171886e-01  8.70090992e-02\n",
      "   8.07192838e-02 -4.25485497e-02  1.77396667e-02  2.45960580e-02]\n",
      " [-2.40647771e-02 -4.45868713e-01 -4.80010764e-01 -1.36584531e-01\n",
      "   1.29605015e-01 -1.67021141e-01 -3.40992176e-02 -7.05904209e-01\n",
      "   1.56300749e-02  8.14164088e-03  2.96359292e-03 -2.38986841e-03\n",
      "  -6.59424797e-03 -2.15051176e-03 -3.08250063e-02  9.48879806e-04\n",
      "  -2.94465018e-02 -1.36908800e-03 -1.07806657e-02 -3.20285123e-02\n",
      "  -4.82850775e-02  2.30724700e-02 -1.52744315e-02 -1.13518833e-02\n",
      "  -2.00295655e-02  1.29105468e-02 -9.90178825e-03 -1.31193662e-02]\n",
      " [ 5.00390186e-03  4.43133755e-01 -4.96987894e-01  2.13936536e-01\n",
      "  -1.44006058e-02  3.56265097e-02 -7.05770964e-01  3.69768940e-02\n",
      "   9.96650197e-03  1.73515625e-03 -9.91381952e-03 -1.35623250e-02\n",
      "  -6.95385985e-03 -8.86384131e-03 -2.49446631e-02 -3.79620418e-02\n",
      "  -2.79059430e-02 -6.70617988e-03  1.11290486e-02  1.82726959e-02\n",
      "   4.59558092e-02 -1.29806461e-02  2.00286764e-02 -1.75317715e-02\n",
      "  -5.01286889e-03  6.98095464e-04 -2.65816071e-02  4.80376297e-02]\n",
      " [-7.47067340e-03 -2.63934679e-01  1.98866139e-02  5.62977160e-01\n",
      "   1.24146746e-01  2.88709178e-01  1.19507707e-02  1.73680863e-02\n",
      "   7.02843620e-01  5.76479051e-02  2.32996968e-02  1.63137714e-02\n",
      "   3.28547800e-02 -4.09682024e-02 -2.00853799e-02  6.31405860e-02\n",
      "  -9.95560260e-03 -6.72997932e-03  4.46091844e-02 -2.70005035e-02\n",
      "  -1.38276927e-02  1.76258976e-02  4.52315269e-02  2.70759876e-02\n",
      "  -4.46755252e-02 -4.15175062e-03  3.64425297e-03  1.71432636e-02]]\n"
     ]
    }
   ],
   "source": [
    "print('\\nEigenvators \\n%s' %eig_vecs)"
   ]
  },
  {
   "cell_type": "code",
   "execution_count": 44,
   "id": "3003c306",
   "metadata": {},
   "outputs": [
    {
     "name": "stdout",
     "output_type": "stream",
     "text": [
      "\n",
      "Eigenvalues \n",
      "[3.23295345 2.04050934 1.98385836 1.92759835 1.79922968 1.66131411\n",
      " 0.01888771 0.03230458 0.13354779 0.15664785 0.20919196 0.22390248\n",
      " 0.3391974  0.51823069 0.74237318 0.86160786 1.12777784 1.11220929\n",
      " 1.08554049 0.90845147 1.04869457 1.03400922 0.92906241 0.94077267\n",
      " 0.95427483 0.97989027 1.0058207  0.9985327 ]\n"
     ]
    }
   ],
   "source": [
    "print('\\nEigenvalues \\n%s' %eig_vals)"
   ]
  },
  {
   "cell_type": "code",
   "execution_count": 21,
   "id": "0b580176",
   "metadata": {},
   "outputs": [
    {
     "data": {
      "text/plain": [
       "0.11543627386491091"
      ]
     },
     "execution_count": 21,
     "metadata": {},
     "output_type": "execute_result"
    }
   ],
   "source": [
    "# we reduce dimension to 1 dimension, since 1 eigenvector has () variances.\n",
    "eig_vals[0] / sum(eig_vals)"
   ]
  },
  {
   "cell_type": "code",
   "execution_count": 45,
   "id": "d2495734",
   "metadata": {},
   "outputs": [
    {
     "name": "stdout",
     "output_type": "stream",
     "text": [
      "[0.29863575 0.2255753 ]\n"
     ]
    }
   ],
   "source": [
    "print(pca.explained_variance_ratio_)"
   ]
  },
  {
   "cell_type": "markdown",
   "id": "7f428a65",
   "metadata": {},
   "source": [
    "### binning and sample size adjust"
   ]
  },
  {
   "cell_type": "code",
   "execution_count": null,
   "id": "075434fb",
   "metadata": {},
   "outputs": [],
   "source": []
  },
  {
   "cell_type": "code",
   "execution_count": null,
   "id": "35f188a4",
   "metadata": {},
   "outputs": [],
   "source": []
  },
  {
   "cell_type": "code",
   "execution_count": null,
   "id": "5801801d",
   "metadata": {},
   "outputs": [],
   "source": []
  },
  {
   "cell_type": "code",
   "execution_count": null,
   "id": "a6c46d01",
   "metadata": {},
   "outputs": [],
   "source": []
  },
  {
   "cell_type": "code",
   "execution_count": null,
   "id": "af2c6721",
   "metadata": {},
   "outputs": [],
   "source": []
  },
  {
   "cell_type": "code",
   "execution_count": null,
   "id": "04bc3301",
   "metadata": {},
   "outputs": [],
   "source": []
  },
  {
   "cell_type": "markdown",
   "id": "e930c900",
   "metadata": {},
   "source": [
    "### K_means Analysis"
   ]
  },
  {
   "cell_type": "code",
   "execution_count": 33,
   "id": "5cfab00a",
   "metadata": {},
   "outputs": [],
   "source": [
    "Kx = df_general.to_numpy()"
   ]
  },
  {
   "cell_type": "code",
   "execution_count": 34,
   "id": "c92c77a2",
   "metadata": {},
   "outputs": [
    {
     "data": {
      "text/plain": [
       "(4300, 24)"
      ]
     },
     "execution_count": 34,
     "metadata": {},
     "output_type": "execute_result"
    }
   ],
   "source": [
    "Kx.shape"
   ]
  },
  {
   "cell_type": "code",
   "execution_count": 35,
   "id": "2b560bab",
   "metadata": {},
   "outputs": [
    {
     "data": {
      "image/png": "[encoded data removed]",
      "text/plain": [
       "<Figure size 432x288 with 1 Axes>"
      ]
     },
     "metadata": {
      "needs_background": "light"
     },
     "output_type": "display_data"
    }
   ],
   "source": [
    "from sklearn.cluster import KMeans\n",
    "inertia_list = []\n",
    "for i in range(1,11):\n",
    "    kmeans = KMeans(n_clusters=i, init='k-means++')\n",
    "    kmeans.fit(Kx)\n",
    "    inertia_list.append(kmeans.inertia_)\n",
    "\n",
    "plt.plot(range(1,11),inertia_list)\n",
    "plt.title('Elbow Method')\n",
    "plt.xlabel('n_clusters')\n",
    "plt.ylabel('inertia')\n",
    "plt.show()"
   ]
  },
  {
   "cell_type": "code",
   "execution_count": null,
   "id": "0aeebd1a",
   "metadata": {},
   "outputs": [],
   "source": [
    " # We select best_n_clusters = 4\n",
    "best_n_clusters = 4        "
   ]
  },
  {
   "cell_type": "code",
   "execution_count": null,
   "id": "ae9fa5d3",
   "metadata": {},
   "outputs": [],
   "source": [
    "kmeans=KMeans(n_clusters=best_n_clusters)\n",
    "y_kmeans = kmeans.fit_predict(Kx)\n",
    "y_kmeans"
   ]
  },
  {
   "cell_type": "markdown",
   "id": "6a08bd80",
   "metadata": {},
   "source": [
    "umap_scaler_km = umap.UMAP(n_components=6)\n",
    "embeddings_km = umap_scaler.fit_transform(data_to_cluster_scaled)\n",
    "\n",
    "\n",
    "Sum_of_squared_distances = []\n",
    "K = range(1,10)\n",
    "for k in K:\n",
    "    km = KMeans(n_clusters=k)\n",
    "    km = km.fit(embeddings_km)\n",
    "    Sum_of_squared_distances.append(km.inertia_)\n",
    "\n",
    "\n",
    "plt.plot(K, Sum_of_squared_distances, 'bx-')\n",
    "plt.xlabel('k')\n",
    "plt.ylabel('Sum_of_squared_distances')\n",
    "plt.title('Elbow Method For Optimal k')\n",
    "plt.show()"
   ]
  },
  {
   "cell_type": "code",
   "execution_count": null,
   "id": "4ded133f",
   "metadata": {},
   "outputs": [],
   "source": [
    "# data visualization with best_n_cluster\n",
    "# embeddings[:,0],embeddings[:,1]\n",
    "for cluster in range(best_n_clusters):\n",
    "    plt.scatter(Kx[y_kmeans == cluster], Kx[y_kmeans ==cluster], s=100, edgecolor = 'black') #s: marker size\n",
    "\n",
    "plt.title()\n",
    "plt.show()\n"
   ]
  },
  {
   "cell_type": "code",
   "execution_count": null,
   "id": "72482205",
   "metadata": {},
   "outputs": [],
   "source": []
  },
  {
   "cell_type": "code",
   "execution_count": null,
   "id": "85ae9832",
   "metadata": {},
   "outputs": [],
   "source": []
  },
  {
   "cell_type": "code",
   "execution_count": null,
   "id": "0cd113bf",
   "metadata": {},
   "outputs": [],
   "source": []
  },
  {
   "cell_type": "code",
   "execution_count": null,
   "id": "57a53513",
   "metadata": {},
   "outputs": [],
   "source": []
  },
  {
   "cell_type": "code",
   "execution_count": null,
   "id": "53c309e3",
   "metadata": {},
   "outputs": [],
   "source": []
  },
  {
   "cell_type": "code",
   "execution_count": null,
   "id": "19def018",
   "metadata": {},
   "outputs": [],
   "source": []
  },
  {
   "cell_type": "code",
   "execution_count": null,
   "id": "9dae55b3",
   "metadata": {},
   "outputs": [],
   "source": []
  },
  {
   "cell_type": "code",
   "execution_count": null,
   "id": "933cf1d7",
   "metadata": {},
   "outputs": [],
   "source": [
    "from sklearn.cluster import KMeans\n",
    "clusterer = KMeans(n_clusters=3)"
   ]
  },
  {
   "cell_type": "code",
   "execution_count": null,
   "id": "f8dc7027",
   "metadata": {},
   "outputs": [],
   "source": [
    "umap_scaler_km = umap.UMAP(n_components=6)\n",
    "embeddings_km = umap_scaler.fit_transform(data_to_cluster_scaled)\n",
    "\n",
    "\n",
    "Sum_of_squared_distances = []\n",
    "K = range(1,10)\n",
    "for k in K:\n",
    "    km = KMeans(n_clusters=k)\n",
    "    km = km.fit(embeddings_km)\n",
    "    Sum_of_squared_distances.append(km.inertia_)\n",
    "\n",
    "\n",
    "plt.plot(K, Sum_of_squared_distances, 'bx-')\n",
    "plt.xlabel('k')\n",
    "plt.ylabel('Sum_of_squared_distances')\n",
    "plt.title('Elbow Method For Optimal k')\n",
    "plt.show()"
   ]
  },
  {
   "cell_type": "code",
   "execution_count": null,
   "id": "83e938dd",
   "metadata": {},
   "outputs": [],
   "source": [
    "# back to our k-means instance. We take 3 clusters on non-reduced data\n",
    "clusterer.fit(data_to_cluster_scaled)"
   ]
  },
  {
   "cell_type": "code",
   "execution_count": null,
   "id": "e333a339",
   "metadata": {},
   "outputs": [],
   "source": [
    "# we can then copy the cluster-numbers into the original file and start exploring\n",
    "df_general['cluster'] = clusterer.labels_"
   ]
  },
  {
   "cell_type": "code",
   "execution_count": null,
   "id": "53948fd7",
   "metadata": {},
   "outputs": [],
   "source": [
    "# e.g. which cluster seems most lgbt-friendly \n",
    "df_general.groupby('cluster').size()"
   ]
  },
  {
   "cell_type": "code",
   "execution_count": null,
   "id": "82f3dc02",
   "metadata": {},
   "outputs": [],
   "source": [
    "vis_data = pd.DataFrame(embeddings)\n",
    "vis_data['place'] = data['place']\n",
    "vis_data['cluster'] = data['cluster']\n",
    "vis_data['country'] = data['alpha-2']\n",
    "vis_data.columns = ['x', 'y', 'place', 'cluster','country']"
   ]
  },
  {
   "cell_type": "code",
   "execution_count": null,
   "id": "9455e45f",
   "metadata": {},
   "outputs": [],
   "source": [
    "alt.Chart(vis_data).mark_circle(size=60).encode(\n",
    "    x='x',\n",
    "    y='y',\n",
    "    tooltip=['place', 'country'],\n",
    "    color=alt.Color('cluster:N', scale=alt.Scale(scheme='dark2')) #use N after the var to tell altair that it's categorical\n",
    ").interactive()"
   ]
  },
  {
   "cell_type": "code",
   "execution_count": null,
   "id": "925a9826",
   "metadata": {},
   "outputs": [],
   "source": []
  },
  {
   "cell_type": "code",
   "execution_count": null,
   "id": "efcd4414",
   "metadata": {},
   "outputs": [],
   "source": []
  },
  {
   "cell_type": "code",
   "execution_count": null,
   "id": "16b1480f",
   "metadata": {},
   "outputs": [],
   "source": []
  },
  {
   "cell_type": "code",
   "execution_count": null,
   "id": "b2d96ff5",
   "metadata": {},
   "outputs": [],
   "source": []
  },
  {
   "cell_type": "code",
   "execution_count": null,
   "id": "8cbfe8bb",
   "metadata": {},
   "outputs": [],
   "source": []
  },
  {
   "cell_type": "code",
   "execution_count": null,
   "id": "c0ace815",
   "metadata": {},
   "outputs": [],
   "source": []
  },
  {
   "cell_type": "code",
   "execution_count": null,
   "id": "b707636d",
   "metadata": {},
   "outputs": [],
   "source": []
  },
  {
   "cell_type": "code",
   "execution_count": null,
   "id": "342e39bf",
   "metadata": {},
   "outputs": [],
   "source": []
  }
 ],
 "metadata": {
  "kernelspec": {
   "display_name": "Python 3 (ipykernel)",
   "language": "python",
   "name": "python3"
  },
  "language_info": {
   "codemirror_mode": {
    "name": "ipython",
    "version": 3
   },
   "file_extension": ".py",
   "mimetype": "text/x-python",
   "name": "python",
   "nbconvert_exporter": "python",
   "pygments_lexer": "ipython3",
   "version": "3.9.12"
  }
 },
 "nbformat": 4,
 "nbformat_minor": 5
}
