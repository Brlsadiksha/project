{
  "nbformat": 4,
  "nbformat_minor": 0,
  "metadata": {
    "colab": {
      "provenance": [],
      "collapsed_sections": [
        "-E_iereIAvEX",
        "uzrEb1W3Df_9",
        "SYCRYtH8DYIl",
        "fk1SDXvAIAjM",
        "vSsnmlPaJ6ES"
      ]
    },
    "kernelspec": {
      "name": "python3",
      "display_name": "Python 3"
    },
    "language_info": {
      "name": "python"
    }
  },
  "cells": [
    {
      "cell_type": "markdown",
      "source": [
        "##Loading modules and data"
      ],
      "metadata": {
        "id": "-E_iereIAvEX"
      }
    },
    {
      "cell_type": "code",
      "source": [
        "!pip install joblib\n",
        "!pip install shap"
      ],
      "metadata": {
        "id": "x57MvI4exSr_",
        "outputId": "fd347f71-26f4-4604-9ee3-99f63db5e479",
        "colab": {
          "base_uri": "https://localhost:8080/"
        }
      },
      "execution_count": 106,
      "outputs": [
        {
          "output_type": "stream",
          "name": "stdout",
          "text": [
            "Looking in indexes: https://pypi.org/simple, https://us-python.pkg.dev/colab-wheels/public/simple/\n",
            "Requirement already satisfied: joblib in /usr/local/lib/python3.7/dist-packages (1.1.0)\n",
            "Looking in indexes: https://pypi.org/simple, https://us-python.pkg.dev/colab-wheels/public/simple/\n",
            "Requirement already satisfied: shap in /usr/local/lib/python3.7/dist-packages (0.41.0)\n",
            "Requirement already satisfied: numba in /usr/local/lib/python3.7/dist-packages (from shap) (0.56.2)\n",
            "Requirement already satisfied: numpy in /usr/local/lib/python3.7/dist-packages (from shap) (1.21.6)\n",
            "Requirement already satisfied: scipy in /usr/local/lib/python3.7/dist-packages (from shap) (1.7.3)\n",
            "Requirement already satisfied: slicer==0.0.7 in /usr/local/lib/python3.7/dist-packages (from shap) (0.0.7)\n",
            "Requirement already satisfied: tqdm>4.25.0 in /usr/local/lib/python3.7/dist-packages (from shap) (4.64.1)\n",
            "Requirement already satisfied: cloudpickle in /usr/local/lib/python3.7/dist-packages (from shap) (1.5.0)\n",
            "Requirement already satisfied: packaging>20.9 in /usr/local/lib/python3.7/dist-packages (from shap) (21.3)\n",
            "Requirement already satisfied: pandas in /usr/local/lib/python3.7/dist-packages (from shap) (1.3.5)\n",
            "Requirement already satisfied: scikit-learn in /usr/local/lib/python3.7/dist-packages (from shap) (1.0.2)\n",
            "Requirement already satisfied: pyparsing!=3.0.5,>=2.0.2 in /usr/local/lib/python3.7/dist-packages (from packaging>20.9->shap) (3.0.9)\n",
            "Requirement already satisfied: setuptools<60 in /usr/local/lib/python3.7/dist-packages (from numba->shap) (57.4.0)\n",
            "Requirement already satisfied: importlib-metadata in /usr/local/lib/python3.7/dist-packages (from numba->shap) (4.12.0)\n",
            "Requirement already satisfied: llvmlite<0.40,>=0.39.0dev0 in /usr/local/lib/python3.7/dist-packages (from numba->shap) (0.39.1)\n",
            "Requirement already satisfied: zipp>=0.5 in /usr/local/lib/python3.7/dist-packages (from importlib-metadata->numba->shap) (3.8.1)\n",
            "Requirement already satisfied: typing-extensions>=3.6.4 in /usr/local/lib/python3.7/dist-packages (from importlib-metadata->numba->shap) (4.1.1)\n",
            "Requirement already satisfied: pytz>=2017.3 in /usr/local/lib/python3.7/dist-packages (from pandas->shap) (2022.2.1)\n",
            "Requirement already satisfied: python-dateutil>=2.7.3 in /usr/local/lib/python3.7/dist-packages (from pandas->shap) (2.8.2)\n",
            "Requirement already satisfied: six>=1.5 in /usr/local/lib/python3.7/dist-packages (from python-dateutil>=2.7.3->pandas->shap) (1.15.0)\n",
            "Requirement already satisfied: threadpoolctl>=2.0.0 in /usr/local/lib/python3.7/dist-packages (from scikit-learn->shap) (3.1.0)\n",
            "Requirement already satisfied: joblib>=0.11 in /usr/local/lib/python3.7/dist-packages (from scikit-learn->shap) (1.1.0)\n"
          ]
        }
      ]
    },
    {
      "cell_type": "code",
      "source": [
        "import joblib\n",
        "import shap\n",
        "# Basic stuff\n",
        "import numpy as np\n",
        "import pandas as pd\n",
        "import seaborn as sns\n",
        "import matplotlib.pyplot as plt\n",
        "# Feature engineering\n",
        "from sklearn.preprocessing import LabelEncoder\n",
        "from sklearn.preprocessing import StandardScaler\n",
        "from sklearn.model_selection import train_test_split\n",
        "from sklearn.metrics import mean_squared_error\n",
        "#Parameter tuning\n",
        "from sklearn.model_selection import GridSearchCV\n",
        "from sklearn.metrics import make_scorer \n",
        "from sklearn.metrics import mean_squared_error \n",
        "from sklearn.metrics import r2_score\n",
        "from sklearn.model_selection import cross_val_score\n",
        "from sklearn.model_selection import KFold\n",
        "from sklearn.metrics import confusion_matrix , accuracy_score ,classification_report\n",
        "#Models to select from\n",
        "from sklearn.linear_model import LogisticRegression\n",
        "from sklearn.ensemble import RandomForestRegressor\n",
        "from sklearn.svm import SVC\n",
        "from sklearn.tree import DecisionTreeClassifier"
      ],
      "metadata": {
        "id": "8Lj31jD-Aupn"
      },
      "execution_count": 107,
      "outputs": []
    },
    {
      "cell_type": "code",
      "execution_count": 108,
      "metadata": {
        "colab": {
          "base_uri": "https://localhost:8080/",
          "height": 609
        },
        "id": "w5GZvImTAodx",
        "outputId": "af6425ef-b5dc-4934-e549-00be1e8a0ae7"
      },
      "outputs": [
        {
          "output_type": "execute_result",
          "data": {
            "text/plain": [
              "      Age Attrition     BusinessTravel              Department  \\\n",
              "0      51        No      Travel_Rarely                   Sales   \n",
              "1      31       Yes  Travel_Frequently  Research & Development   \n",
              "2      32        No  Travel_Frequently  Research & Development   \n",
              "3      38        No         Non-Travel  Research & Development   \n",
              "4      32        No      Travel_Rarely  Research & Development   \n",
              "...   ...       ...                ...                     ...   \n",
              "4404   29        No      Travel_Rarely                   Sales   \n",
              "4405   42        No      Travel_Rarely  Research & Development   \n",
              "4406   29        No      Travel_Rarely  Research & Development   \n",
              "4407   25        No      Travel_Rarely  Research & Development   \n",
              "4408   42        No      Travel_Rarely                   Sales   \n",
              "\n",
              "      DistanceFromHome  Education EducationField  EmployeeCount  EmployeeID  \\\n",
              "0                    6          2  Life Sciences              1           1   \n",
              "1                   10          1  Life Sciences              1           2   \n",
              "2                   17          4          Other              1           3   \n",
              "3                    2          5  Life Sciences              1           4   \n",
              "4                   10          1        Medical              1           5   \n",
              "...                ...        ...            ...            ...         ...   \n",
              "4404                 4          3          Other              1        4405   \n",
              "4405                 5          4        Medical              1        4406   \n",
              "4406                 2          4        Medical              1        4407   \n",
              "4407                25          2  Life Sciences              1        4408   \n",
              "4408                18          2        Medical              1        4409   \n",
              "\n",
              "      Gender  ...  TotalWorkingYears TrainingTimesLastYear YearsAtCompany  \\\n",
              "0     Female  ...                1.0                     6              1   \n",
              "1     Female  ...                6.0                     3              5   \n",
              "2       Male  ...                5.0                     2              5   \n",
              "3       Male  ...               13.0                     5              8   \n",
              "4       Male  ...                9.0                     2              6   \n",
              "...      ...  ...                ...                   ...            ...   \n",
              "4404  Female  ...                6.0                     2              6   \n",
              "4405  Female  ...               10.0                     5              3   \n",
              "4406    Male  ...               10.0                     2              3   \n",
              "4407    Male  ...                5.0                     4              4   \n",
              "4408    Male  ...               10.0                     2              9   \n",
              "\n",
              "      YearsSinceLastPromotion  YearsWithCurrManager JobInvolvement  \\\n",
              "0                           0                     0              3   \n",
              "1                           1                     4              2   \n",
              "2                           0                     3              3   \n",
              "3                           7                     5              2   \n",
              "4                           0                     4              3   \n",
              "...                       ...                   ...            ...   \n",
              "4404                        1                     5              2   \n",
              "4405                        0                     2              3   \n",
              "4406                        0                     2              2   \n",
              "4407                        1                     2              3   \n",
              "4408                        7                     8              2   \n",
              "\n",
              "      PerformanceRating  EnvironmentSatisfaction  JobSatisfaction  \\\n",
              "0                     3                      3.0              4.0   \n",
              "1                     4                      3.0              2.0   \n",
              "2                     3                      2.0              2.0   \n",
              "3                     3                      4.0              4.0   \n",
              "4                     3                      4.0              1.0   \n",
              "...                 ...                      ...              ...   \n",
              "4404                  3                      3.0              4.0   \n",
              "4405                  3                      4.0              1.0   \n",
              "4406                  3                      4.0              4.0   \n",
              "4407                  4                      1.0              3.0   \n",
              "4408                  3                      4.0              1.0   \n",
              "\n",
              "      WorkLifeBalance  \n",
              "0                 2.0  \n",
              "1                 4.0  \n",
              "2                 1.0  \n",
              "3                 3.0  \n",
              "4                 3.0  \n",
              "...               ...  \n",
              "4404              3.0  \n",
              "4405              3.0  \n",
              "4406              3.0  \n",
              "4407              3.0  \n",
              "4408              3.0  \n",
              "\n",
              "[4382 rows x 29 columns]"
            ],
            "text/html": [
              "\n",
              "  <div id=\"df-1b120fcf-16b2-47c3-bc73-2c84fc4240d6\">\n",
              "    <div class=\"colab-df-container\">\n",
              "      <div>\n",
              "<style scoped>\n",
              "    .dataframe tbody tr th:only-of-type {\n",
              "        vertical-align: middle;\n",
              "    }\n",
              "\n",
              "    .dataframe tbody tr th {\n",
              "        vertical-align: top;\n",
              "    }\n",
              "\n",
              "    .dataframe thead th {\n",
              "        text-align: right;\n",
              "    }\n",
              "</style>\n",
              "<table border=\"1\" class=\"dataframe\">\n",
              "  <thead>\n",
              "    <tr style=\"text-align: right;\">\n",
              "      <th></th>\n",
              "      <th>Age</th>\n",
              "      <th>Attrition</th>\n",
              "      <th>BusinessTravel</th>\n",
              "      <th>Department</th>\n",
              "      <th>DistanceFromHome</th>\n",
              "      <th>Education</th>\n",
              "      <th>EducationField</th>\n",
              "      <th>EmployeeCount</th>\n",
              "      <th>EmployeeID</th>\n",
              "      <th>Gender</th>\n",
              "      <th>...</th>\n",
              "      <th>TotalWorkingYears</th>\n",
              "      <th>TrainingTimesLastYear</th>\n",
              "      <th>YearsAtCompany</th>\n",
              "      <th>YearsSinceLastPromotion</th>\n",
              "      <th>YearsWithCurrManager</th>\n",
              "      <th>JobInvolvement</th>\n",
              "      <th>PerformanceRating</th>\n",
              "      <th>EnvironmentSatisfaction</th>\n",
              "      <th>JobSatisfaction</th>\n",
              "      <th>WorkLifeBalance</th>\n",
              "    </tr>\n",
              "  </thead>\n",
              "  <tbody>\n",
              "    <tr>\n",
              "      <th>0</th>\n",
              "      <td>51</td>\n",
              "      <td>No</td>\n",
              "      <td>Travel_Rarely</td>\n",
              "      <td>Sales</td>\n",
              "      <td>6</td>\n",
              "      <td>2</td>\n",
              "      <td>Life Sciences</td>\n",
              "      <td>1</td>\n",
              "      <td>1</td>\n",
              "      <td>Female</td>\n",
              "      <td>...</td>\n",
              "      <td>1.0</td>\n",
              "      <td>6</td>\n",
              "      <td>1</td>\n",
              "      <td>0</td>\n",
              "      <td>0</td>\n",
              "      <td>3</td>\n",
              "      <td>3</td>\n",
              "      <td>3.0</td>\n",
              "      <td>4.0</td>\n",
              "      <td>2.0</td>\n",
              "    </tr>\n",
              "    <tr>\n",
              "      <th>1</th>\n",
              "      <td>31</td>\n",
              "      <td>Yes</td>\n",
              "      <td>Travel_Frequently</td>\n",
              "      <td>Research &amp; Development</td>\n",
              "      <td>10</td>\n",
              "      <td>1</td>\n",
              "      <td>Life Sciences</td>\n",
              "      <td>1</td>\n",
              "      <td>2</td>\n",
              "      <td>Female</td>\n",
              "      <td>...</td>\n",
              "      <td>6.0</td>\n",
              "      <td>3</td>\n",
              "      <td>5</td>\n",
              "      <td>1</td>\n",
              "      <td>4</td>\n",
              "      <td>2</td>\n",
              "      <td>4</td>\n",
              "      <td>3.0</td>\n",
              "      <td>2.0</td>\n",
              "      <td>4.0</td>\n",
              "    </tr>\n",
              "    <tr>\n",
              "      <th>2</th>\n",
              "      <td>32</td>\n",
              "      <td>No</td>\n",
              "      <td>Travel_Frequently</td>\n",
              "      <td>Research &amp; Development</td>\n",
              "      <td>17</td>\n",
              "      <td>4</td>\n",
              "      <td>Other</td>\n",
              "      <td>1</td>\n",
              "      <td>3</td>\n",
              "      <td>Male</td>\n",
              "      <td>...</td>\n",
              "      <td>5.0</td>\n",
              "      <td>2</td>\n",
              "      <td>5</td>\n",
              "      <td>0</td>\n",
              "      <td>3</td>\n",
              "      <td>3</td>\n",
              "      <td>3</td>\n",
              "      <td>2.0</td>\n",
              "      <td>2.0</td>\n",
              "      <td>1.0</td>\n",
              "    </tr>\n",
              "    <tr>\n",
              "      <th>3</th>\n",
              "      <td>38</td>\n",
              "      <td>No</td>\n",
              "      <td>Non-Travel</td>\n",
              "      <td>Research &amp; Development</td>\n",
              "      <td>2</td>\n",
              "      <td>5</td>\n",
              "      <td>Life Sciences</td>\n",
              "      <td>1</td>\n",
              "      <td>4</td>\n",
              "      <td>Male</td>\n",
              "      <td>...</td>\n",
              "      <td>13.0</td>\n",
              "      <td>5</td>\n",
              "      <td>8</td>\n",
              "      <td>7</td>\n",
              "      <td>5</td>\n",
              "      <td>2</td>\n",
              "      <td>3</td>\n",
              "      <td>4.0</td>\n",
              "      <td>4.0</td>\n",
              "      <td>3.0</td>\n",
              "    </tr>\n",
              "    <tr>\n",
              "      <th>4</th>\n",
              "      <td>32</td>\n",
              "      <td>No</td>\n",
              "      <td>Travel_Rarely</td>\n",
              "      <td>Research &amp; Development</td>\n",
              "      <td>10</td>\n",
              "      <td>1</td>\n",
              "      <td>Medical</td>\n",
              "      <td>1</td>\n",
              "      <td>5</td>\n",
              "      <td>Male</td>\n",
              "      <td>...</td>\n",
              "      <td>9.0</td>\n",
              "      <td>2</td>\n",
              "      <td>6</td>\n",
              "      <td>0</td>\n",
              "      <td>4</td>\n",
              "      <td>3</td>\n",
              "      <td>3</td>\n",
              "      <td>4.0</td>\n",
              "      <td>1.0</td>\n",
              "      <td>3.0</td>\n",
              "    </tr>\n",
              "    <tr>\n",
              "      <th>...</th>\n",
              "      <td>...</td>\n",
              "      <td>...</td>\n",
              "      <td>...</td>\n",
              "      <td>...</td>\n",
              "      <td>...</td>\n",
              "      <td>...</td>\n",
              "      <td>...</td>\n",
              "      <td>...</td>\n",
              "      <td>...</td>\n",
              "      <td>...</td>\n",
              "      <td>...</td>\n",
              "      <td>...</td>\n",
              "      <td>...</td>\n",
              "      <td>...</td>\n",
              "      <td>...</td>\n",
              "      <td>...</td>\n",
              "      <td>...</td>\n",
              "      <td>...</td>\n",
              "      <td>...</td>\n",
              "      <td>...</td>\n",
              "      <td>...</td>\n",
              "    </tr>\n",
              "    <tr>\n",
              "      <th>4404</th>\n",
              "      <td>29</td>\n",
              "      <td>No</td>\n",
              "      <td>Travel_Rarely</td>\n",
              "      <td>Sales</td>\n",
              "      <td>4</td>\n",
              "      <td>3</td>\n",
              "      <td>Other</td>\n",
              "      <td>1</td>\n",
              "      <td>4405</td>\n",
              "      <td>Female</td>\n",
              "      <td>...</td>\n",
              "      <td>6.0</td>\n",
              "      <td>2</td>\n",
              "      <td>6</td>\n",
              "      <td>1</td>\n",
              "      <td>5</td>\n",
              "      <td>2</td>\n",
              "      <td>3</td>\n",
              "      <td>3.0</td>\n",
              "      <td>4.0</td>\n",
              "      <td>3.0</td>\n",
              "    </tr>\n",
              "    <tr>\n",
              "      <th>4405</th>\n",
              "      <td>42</td>\n",
              "      <td>No</td>\n",
              "      <td>Travel_Rarely</td>\n",
              "      <td>Research &amp; Development</td>\n",
              "      <td>5</td>\n",
              "      <td>4</td>\n",
              "      <td>Medical</td>\n",
              "      <td>1</td>\n",
              "      <td>4406</td>\n",
              "      <td>Female</td>\n",
              "      <td>...</td>\n",
              "      <td>10.0</td>\n",
              "      <td>5</td>\n",
              "      <td>3</td>\n",
              "      <td>0</td>\n",
              "      <td>2</td>\n",
              "      <td>3</td>\n",
              "      <td>3</td>\n",
              "      <td>4.0</td>\n",
              "      <td>1.0</td>\n",
              "      <td>3.0</td>\n",
              "    </tr>\n",
              "    <tr>\n",
              "      <th>4406</th>\n",
              "      <td>29</td>\n",
              "      <td>No</td>\n",
              "      <td>Travel_Rarely</td>\n",
              "      <td>Research &amp; Development</td>\n",
              "      <td>2</td>\n",
              "      <td>4</td>\n",
              "      <td>Medical</td>\n",
              "      <td>1</td>\n",
              "      <td>4407</td>\n",
              "      <td>Male</td>\n",
              "      <td>...</td>\n",
              "      <td>10.0</td>\n",
              "      <td>2</td>\n",
              "      <td>3</td>\n",
              "      <td>0</td>\n",
              "      <td>2</td>\n",
              "      <td>2</td>\n",
              "      <td>3</td>\n",
              "      <td>4.0</td>\n",
              "      <td>4.0</td>\n",
              "      <td>3.0</td>\n",
              "    </tr>\n",
              "    <tr>\n",
              "      <th>4407</th>\n",
              "      <td>25</td>\n",
              "      <td>No</td>\n",
              "      <td>Travel_Rarely</td>\n",
              "      <td>Research &amp; Development</td>\n",
              "      <td>25</td>\n",
              "      <td>2</td>\n",
              "      <td>Life Sciences</td>\n",
              "      <td>1</td>\n",
              "      <td>4408</td>\n",
              "      <td>Male</td>\n",
              "      <td>...</td>\n",
              "      <td>5.0</td>\n",
              "      <td>4</td>\n",
              "      <td>4</td>\n",
              "      <td>1</td>\n",
              "      <td>2</td>\n",
              "      <td>3</td>\n",
              "      <td>4</td>\n",
              "      <td>1.0</td>\n",
              "      <td>3.0</td>\n",
              "      <td>3.0</td>\n",
              "    </tr>\n",
              "    <tr>\n",
              "      <th>4408</th>\n",
              "      <td>42</td>\n",
              "      <td>No</td>\n",
              "      <td>Travel_Rarely</td>\n",
              "      <td>Sales</td>\n",
              "      <td>18</td>\n",
              "      <td>2</td>\n",
              "      <td>Medical</td>\n",
              "      <td>1</td>\n",
              "      <td>4409</td>\n",
              "      <td>Male</td>\n",
              "      <td>...</td>\n",
              "      <td>10.0</td>\n",
              "      <td>2</td>\n",
              "      <td>9</td>\n",
              "      <td>7</td>\n",
              "      <td>8</td>\n",
              "      <td>2</td>\n",
              "      <td>3</td>\n",
              "      <td>4.0</td>\n",
              "      <td>1.0</td>\n",
              "      <td>3.0</td>\n",
              "    </tr>\n",
              "  </tbody>\n",
              "</table>\n",
              "<p>4382 rows × 29 columns</p>\n",
              "</div>\n",
              "      <button class=\"colab-df-convert\" onclick=\"convertToInteractive('df-1b120fcf-16b2-47c3-bc73-2c84fc4240d6')\"\n",
              "              title=\"Convert this dataframe to an interactive table.\"\n",
              "              style=\"display:none;\">\n",
              "        \n",
              "  <svg xmlns=\"http://www.w3.org/2000/svg\" height=\"24px\"viewBox=\"0 0 24 24\"\n",
              "       width=\"24px\">\n",
              "    <path d=\"M0 0h24v24H0V0z\" fill=\"none\"/>\n",
              "    <path d=\"M18.56 5.44l.94 2.06.94-2.06 2.06-.94-2.06-.94-.94-2.06-.94 2.06-2.06.94zm-11 1L8.5 8.5l.94-2.06 2.06-.94-2.06-.94L8.5 2.5l-.94 2.06-2.06.94zm10 10l.94 2.06.94-2.06 2.06-.94-2.06-.94-.94-2.06-.94 2.06-2.06.94z\"/><path d=\"M17.41 7.96l-1.37-1.37c-.4-.4-.92-.59-1.43-.59-.52 0-1.04.2-1.43.59L10.3 9.45l-7.72 7.72c-.78.78-.78 2.05 0 2.83L4 21.41c.39.39.9.59 1.41.59.51 0 1.02-.2 1.41-.59l7.78-7.78 2.81-2.81c.8-.78.8-2.07 0-2.86zM5.41 20L4 18.59l7.72-7.72 1.47 1.35L5.41 20z\"/>\n",
              "  </svg>\n",
              "      </button>\n",
              "      \n",
              "  <style>\n",
              "    .colab-df-container {\n",
              "      display:flex;\n",
              "      flex-wrap:wrap;\n",
              "      gap: 12px;\n",
              "    }\n",
              "\n",
              "    .colab-df-convert {\n",
              "      background-color: #E8F0FE;\n",
              "      border: none;\n",
              "      border-radius: 50%;\n",
              "      cursor: pointer;\n",
              "      display: none;\n",
              "      fill: #1967D2;\n",
              "      height: 32px;\n",
              "      padding: 0 0 0 0;\n",
              "      width: 32px;\n",
              "    }\n",
              "\n",
              "    .colab-df-convert:hover {\n",
              "      background-color: #E2EBFA;\n",
              "      box-shadow: 0px 1px 2px rgba(60, 64, 67, 0.3), 0px 1px 3px 1px rgba(60, 64, 67, 0.15);\n",
              "      fill: #174EA6;\n",
              "    }\n",
              "\n",
              "    [theme=dark] .colab-df-convert {\n",
              "      background-color: #3B4455;\n",
              "      fill: #D2E3FC;\n",
              "    }\n",
              "\n",
              "    [theme=dark] .colab-df-convert:hover {\n",
              "      background-color: #434B5C;\n",
              "      box-shadow: 0px 1px 3px 1px rgba(0, 0, 0, 0.15);\n",
              "      filter: drop-shadow(0px 1px 2px rgba(0, 0, 0, 0.3));\n",
              "      fill: #FFFFFF;\n",
              "    }\n",
              "  </style>\n",
              "\n",
              "      <script>\n",
              "        const buttonEl =\n",
              "          document.querySelector('#df-1b120fcf-16b2-47c3-bc73-2c84fc4240d6 button.colab-df-convert');\n",
              "        buttonEl.style.display =\n",
              "          google.colab.kernel.accessAllowed ? 'block' : 'none';\n",
              "\n",
              "        async function convertToInteractive(key) {\n",
              "          const element = document.querySelector('#df-1b120fcf-16b2-47c3-bc73-2c84fc4240d6');\n",
              "          const dataTable =\n",
              "            await google.colab.kernel.invokeFunction('convertToInteractive',\n",
              "                                                     [key], {});\n",
              "          if (!dataTable) return;\n",
              "\n",
              "          const docLinkHtml = 'Like what you see? Visit the ' +\n",
              "            '<a target=\"_blank\" href=https://colab.research.google.com/notebooks/data_table.ipynb>data table notebook</a>'\n",
              "            + ' to learn more about interactive tables.';\n",
              "          element.innerHTML = '';\n",
              "          dataTable['output_type'] = 'display_data';\n",
              "          await google.colab.output.renderOutput(dataTable, element);\n",
              "          const docLink = document.createElement('div');\n",
              "          docLink.innerHTML = docLinkHtml;\n",
              "          element.appendChild(docLink);\n",
              "        }\n",
              "      </script>\n",
              "    </div>\n",
              "  </div>\n",
              "  "
            ]
          },
          "metadata": {},
          "execution_count": 108
        }
      ],
      "source": [
        "#importing data into variables\n",
        "employee_survey = pd.read_csv('employee_survey_data.csv')\n",
        "df_general = pd.read_csv('general_data.csv')\n",
        "manager_survey = pd.read_csv('manager_survey_data.csv')\n",
        "#Cleaning up some missing values by imputing the mean into employee_survey\n",
        "employee_survey = employee_survey.fillna(employee_survey.mean())\n",
        "# Merging dataframe manager_survey to df_general based on 'EmployeeID'\n",
        "df_general = df_general.merge(manager_survey[['EmployeeID', 'JobInvolvement', 'PerformanceRating']], on='EmployeeID')\n",
        "df_general.head(2)\n",
        "# Merging dataframe employee_survey to df_general based on 'EmployeeID'\n",
        "df_general = df_general.merge(employee_survey[['EmployeeID', 'EnvironmentSatisfaction', 'JobSatisfaction','WorkLifeBalance']], on='EmployeeID')\n",
        "df_general.dropna(axis=0,inplace=True)\n",
        "df_general"
      ]
    },
    {
      "cell_type": "code",
      "source": [
        "df_general.columns"
      ],
      "metadata": {
        "colab": {
          "base_uri": "https://localhost:8080/"
        },
        "id": "WSMB00Z9A6al",
        "outputId": "c3bf76e4-89e3-437e-f3db-2dd052ed9b15"
      },
      "execution_count": 109,
      "outputs": [
        {
          "output_type": "execute_result",
          "data": {
            "text/plain": [
              "Index(['Age', 'Attrition', 'BusinessTravel', 'Department', 'DistanceFromHome',\n",
              "       'Education', 'EducationField', 'EmployeeCount', 'EmployeeID', 'Gender',\n",
              "       'JobLevel', 'JobRole', 'MaritalStatus', 'MonthlyIncome',\n",
              "       'NumCompaniesWorked', 'Over18', 'PercentSalaryHike', 'StandardHours',\n",
              "       'StockOptionLevel', 'TotalWorkingYears', 'TrainingTimesLastYear',\n",
              "       'YearsAtCompany', 'YearsSinceLastPromotion', 'YearsWithCurrManager',\n",
              "       'JobInvolvement', 'PerformanceRating', 'EnvironmentSatisfaction',\n",
              "       'JobSatisfaction', 'WorkLifeBalance'],\n",
              "      dtype='object')"
            ]
          },
          "metadata": {},
          "execution_count": 109
        }
      ]
    },
    {
      "cell_type": "code",
      "source": [
        "df_general.info()"
      ],
      "metadata": {
        "colab": {
          "base_uri": "https://localhost:8080/"
        },
        "id": "28dMCdPZBTnj",
        "outputId": "39a7308c-90db-4647-9bea-dad39042f26f"
      },
      "execution_count": 110,
      "outputs": [
        {
          "output_type": "stream",
          "name": "stdout",
          "text": [
            "<class 'pandas.core.frame.DataFrame'>\n",
            "Int64Index: 4382 entries, 0 to 4408\n",
            "Data columns (total 29 columns):\n",
            " #   Column                   Non-Null Count  Dtype  \n",
            "---  ------                   --------------  -----  \n",
            " 0   Age                      4382 non-null   int64  \n",
            " 1   Attrition                4382 non-null   object \n",
            " 2   BusinessTravel           4382 non-null   object \n",
            " 3   Department               4382 non-null   object \n",
            " 4   DistanceFromHome         4382 non-null   int64  \n",
            " 5   Education                4382 non-null   int64  \n",
            " 6   EducationField           4382 non-null   object \n",
            " 7   EmployeeCount            4382 non-null   int64  \n",
            " 8   EmployeeID               4382 non-null   int64  \n",
            " 9   Gender                   4382 non-null   object \n",
            " 10  JobLevel                 4382 non-null   int64  \n",
            " 11  JobRole                  4382 non-null   object \n",
            " 12  MaritalStatus            4382 non-null   object \n",
            " 13  MonthlyIncome            4382 non-null   int64  \n",
            " 14  NumCompaniesWorked       4382 non-null   float64\n",
            " 15  Over18                   4382 non-null   object \n",
            " 16  PercentSalaryHike        4382 non-null   int64  \n",
            " 17  StandardHours            4382 non-null   int64  \n",
            " 18  StockOptionLevel         4382 non-null   int64  \n",
            " 19  TotalWorkingYears        4382 non-null   float64\n",
            " 20  TrainingTimesLastYear    4382 non-null   int64  \n",
            " 21  YearsAtCompany           4382 non-null   int64  \n",
            " 22  YearsSinceLastPromotion  4382 non-null   int64  \n",
            " 23  YearsWithCurrManager     4382 non-null   int64  \n",
            " 24  JobInvolvement           4382 non-null   int64  \n",
            " 25  PerformanceRating        4382 non-null   int64  \n",
            " 26  EnvironmentSatisfaction  4382 non-null   float64\n",
            " 27  JobSatisfaction          4382 non-null   float64\n",
            " 28  WorkLifeBalance          4382 non-null   float64\n",
            "dtypes: float64(5), int64(16), object(8)\n",
            "memory usage: 1.0+ MB\n"
          ]
        }
      ]
    },
    {
      "cell_type": "markdown",
      "source": [
        "#Feature Engineering\n",
        "Dropping missing values, since there is only about 19 out of 4410 rows that contain NaN"
      ],
      "metadata": {
        "id": "EE9pcbbFBq9o"
      }
    },
    {
      "cell_type": "code",
      "source": [
        "df_general = df_general.dropna(axis=0)\n",
        "df_general.columns"
      ],
      "metadata": {
        "colab": {
          "base_uri": "https://localhost:8080/"
        },
        "id": "L7NQB0rCBWMr",
        "outputId": "e9cfc410-7644-41ab-ab8a-9830d3df9a5a"
      },
      "execution_count": 111,
      "outputs": [
        {
          "output_type": "execute_result",
          "data": {
            "text/plain": [
              "Index(['Age', 'Attrition', 'BusinessTravel', 'Department', 'DistanceFromHome',\n",
              "       'Education', 'EducationField', 'EmployeeCount', 'EmployeeID', 'Gender',\n",
              "       'JobLevel', 'JobRole', 'MaritalStatus', 'MonthlyIncome',\n",
              "       'NumCompaniesWorked', 'Over18', 'PercentSalaryHike', 'StandardHours',\n",
              "       'StockOptionLevel', 'TotalWorkingYears', 'TrainingTimesLastYear',\n",
              "       'YearsAtCompany', 'YearsSinceLastPromotion', 'YearsWithCurrManager',\n",
              "       'JobInvolvement', 'PerformanceRating', 'EnvironmentSatisfaction',\n",
              "       'JobSatisfaction', 'WorkLifeBalance'],\n",
              "      dtype='object')"
            ]
          },
          "metadata": {},
          "execution_count": 111
        }
      ]
    },
    {
      "cell_type": "markdown",
      "source": [
        "Dropping useless features"
      ],
      "metadata": {
        "id": "GOwbcW1GDBqN"
      }
    },
    {
      "cell_type": "code",
      "source": [
        "df_general.drop(columns=['EmployeeCount','Over18','StandardHours'], axis = 1, inplace = True)\n",
        "df_general.head()"
      ],
      "metadata": {
        "colab": {
          "base_uri": "https://localhost:8080/",
          "height": 369
        },
        "id": "d1JaiRcBB8NA",
        "outputId": "caca06a2-a7d6-4c2d-c157-62fc24f0550f"
      },
      "execution_count": 112,
      "outputs": [
        {
          "output_type": "execute_result",
          "data": {
            "text/plain": [
              "   Age Attrition     BusinessTravel              Department  DistanceFromHome  \\\n",
              "0   51        No      Travel_Rarely                   Sales                 6   \n",
              "1   31       Yes  Travel_Frequently  Research & Development                10   \n",
              "2   32        No  Travel_Frequently  Research & Development                17   \n",
              "3   38        No         Non-Travel  Research & Development                 2   \n",
              "4   32        No      Travel_Rarely  Research & Development                10   \n",
              "\n",
              "   Education EducationField  EmployeeID  Gender  JobLevel  ...  \\\n",
              "0          2  Life Sciences           1  Female         1  ...   \n",
              "1          1  Life Sciences           2  Female         1  ...   \n",
              "2          4          Other           3    Male         4  ...   \n",
              "3          5  Life Sciences           4    Male         3  ...   \n",
              "4          1        Medical           5    Male         1  ...   \n",
              "\n",
              "  TotalWorkingYears TrainingTimesLastYear  YearsAtCompany  \\\n",
              "0               1.0                     6               1   \n",
              "1               6.0                     3               5   \n",
              "2               5.0                     2               5   \n",
              "3              13.0                     5               8   \n",
              "4               9.0                     2               6   \n",
              "\n",
              "   YearsSinceLastPromotion  YearsWithCurrManager  JobInvolvement  \\\n",
              "0                        0                     0               3   \n",
              "1                        1                     4               2   \n",
              "2                        0                     3               3   \n",
              "3                        7                     5               2   \n",
              "4                        0                     4               3   \n",
              "\n",
              "   PerformanceRating  EnvironmentSatisfaction  JobSatisfaction  \\\n",
              "0                  3                      3.0              4.0   \n",
              "1                  4                      3.0              2.0   \n",
              "2                  3                      2.0              2.0   \n",
              "3                  3                      4.0              4.0   \n",
              "4                  3                      4.0              1.0   \n",
              "\n",
              "   WorkLifeBalance  \n",
              "0              2.0  \n",
              "1              4.0  \n",
              "2              1.0  \n",
              "3              3.0  \n",
              "4              3.0  \n",
              "\n",
              "[5 rows x 26 columns]"
            ],
            "text/html": [
              "\n",
              "  <div id=\"df-b6ef1519-48cc-4450-bb34-e4750547824b\">\n",
              "    <div class=\"colab-df-container\">\n",
              "      <div>\n",
              "<style scoped>\n",
              "    .dataframe tbody tr th:only-of-type {\n",
              "        vertical-align: middle;\n",
              "    }\n",
              "\n",
              "    .dataframe tbody tr th {\n",
              "        vertical-align: top;\n",
              "    }\n",
              "\n",
              "    .dataframe thead th {\n",
              "        text-align: right;\n",
              "    }\n",
              "</style>\n",
              "<table border=\"1\" class=\"dataframe\">\n",
              "  <thead>\n",
              "    <tr style=\"text-align: right;\">\n",
              "      <th></th>\n",
              "      <th>Age</th>\n",
              "      <th>Attrition</th>\n",
              "      <th>BusinessTravel</th>\n",
              "      <th>Department</th>\n",
              "      <th>DistanceFromHome</th>\n",
              "      <th>Education</th>\n",
              "      <th>EducationField</th>\n",
              "      <th>EmployeeID</th>\n",
              "      <th>Gender</th>\n",
              "      <th>JobLevel</th>\n",
              "      <th>...</th>\n",
              "      <th>TotalWorkingYears</th>\n",
              "      <th>TrainingTimesLastYear</th>\n",
              "      <th>YearsAtCompany</th>\n",
              "      <th>YearsSinceLastPromotion</th>\n",
              "      <th>YearsWithCurrManager</th>\n",
              "      <th>JobInvolvement</th>\n",
              "      <th>PerformanceRating</th>\n",
              "      <th>EnvironmentSatisfaction</th>\n",
              "      <th>JobSatisfaction</th>\n",
              "      <th>WorkLifeBalance</th>\n",
              "    </tr>\n",
              "  </thead>\n",
              "  <tbody>\n",
              "    <tr>\n",
              "      <th>0</th>\n",
              "      <td>51</td>\n",
              "      <td>No</td>\n",
              "      <td>Travel_Rarely</td>\n",
              "      <td>Sales</td>\n",
              "      <td>6</td>\n",
              "      <td>2</td>\n",
              "      <td>Life Sciences</td>\n",
              "      <td>1</td>\n",
              "      <td>Female</td>\n",
              "      <td>1</td>\n",
              "      <td>...</td>\n",
              "      <td>1.0</td>\n",
              "      <td>6</td>\n",
              "      <td>1</td>\n",
              "      <td>0</td>\n",
              "      <td>0</td>\n",
              "      <td>3</td>\n",
              "      <td>3</td>\n",
              "      <td>3.0</td>\n",
              "      <td>4.0</td>\n",
              "      <td>2.0</td>\n",
              "    </tr>\n",
              "    <tr>\n",
              "      <th>1</th>\n",
              "      <td>31</td>\n",
              "      <td>Yes</td>\n",
              "      <td>Travel_Frequently</td>\n",
              "      <td>Research &amp; Development</td>\n",
              "      <td>10</td>\n",
              "      <td>1</td>\n",
              "      <td>Life Sciences</td>\n",
              "      <td>2</td>\n",
              "      <td>Female</td>\n",
              "      <td>1</td>\n",
              "      <td>...</td>\n",
              "      <td>6.0</td>\n",
              "      <td>3</td>\n",
              "      <td>5</td>\n",
              "      <td>1</td>\n",
              "      <td>4</td>\n",
              "      <td>2</td>\n",
              "      <td>4</td>\n",
              "      <td>3.0</td>\n",
              "      <td>2.0</td>\n",
              "      <td>4.0</td>\n",
              "    </tr>\n",
              "    <tr>\n",
              "      <th>2</th>\n",
              "      <td>32</td>\n",
              "      <td>No</td>\n",
              "      <td>Travel_Frequently</td>\n",
              "      <td>Research &amp; Development</td>\n",
              "      <td>17</td>\n",
              "      <td>4</td>\n",
              "      <td>Other</td>\n",
              "      <td>3</td>\n",
              "      <td>Male</td>\n",
              "      <td>4</td>\n",
              "      <td>...</td>\n",
              "      <td>5.0</td>\n",
              "      <td>2</td>\n",
              "      <td>5</td>\n",
              "      <td>0</td>\n",
              "      <td>3</td>\n",
              "      <td>3</td>\n",
              "      <td>3</td>\n",
              "      <td>2.0</td>\n",
              "      <td>2.0</td>\n",
              "      <td>1.0</td>\n",
              "    </tr>\n",
              "    <tr>\n",
              "      <th>3</th>\n",
              "      <td>38</td>\n",
              "      <td>No</td>\n",
              "      <td>Non-Travel</td>\n",
              "      <td>Research &amp; Development</td>\n",
              "      <td>2</td>\n",
              "      <td>5</td>\n",
              "      <td>Life Sciences</td>\n",
              "      <td>4</td>\n",
              "      <td>Male</td>\n",
              "      <td>3</td>\n",
              "      <td>...</td>\n",
              "      <td>13.0</td>\n",
              "      <td>5</td>\n",
              "      <td>8</td>\n",
              "      <td>7</td>\n",
              "      <td>5</td>\n",
              "      <td>2</td>\n",
              "      <td>3</td>\n",
              "      <td>4.0</td>\n",
              "      <td>4.0</td>\n",
              "      <td>3.0</td>\n",
              "    </tr>\n",
              "    <tr>\n",
              "      <th>4</th>\n",
              "      <td>32</td>\n",
              "      <td>No</td>\n",
              "      <td>Travel_Rarely</td>\n",
              "      <td>Research &amp; Development</td>\n",
              "      <td>10</td>\n",
              "      <td>1</td>\n",
              "      <td>Medical</td>\n",
              "      <td>5</td>\n",
              "      <td>Male</td>\n",
              "      <td>1</td>\n",
              "      <td>...</td>\n",
              "      <td>9.0</td>\n",
              "      <td>2</td>\n",
              "      <td>6</td>\n",
              "      <td>0</td>\n",
              "      <td>4</td>\n",
              "      <td>3</td>\n",
              "      <td>3</td>\n",
              "      <td>4.0</td>\n",
              "      <td>1.0</td>\n",
              "      <td>3.0</td>\n",
              "    </tr>\n",
              "  </tbody>\n",
              "</table>\n",
              "<p>5 rows × 26 columns</p>\n",
              "</div>\n",
              "      <button class=\"colab-df-convert\" onclick=\"convertToInteractive('df-b6ef1519-48cc-4450-bb34-e4750547824b')\"\n",
              "              title=\"Convert this dataframe to an interactive table.\"\n",
              "              style=\"display:none;\">\n",
              "        \n",
              "  <svg xmlns=\"http://www.w3.org/2000/svg\" height=\"24px\"viewBox=\"0 0 24 24\"\n",
              "       width=\"24px\">\n",
              "    <path d=\"M0 0h24v24H0V0z\" fill=\"none\"/>\n",
              "    <path d=\"M18.56 5.44l.94 2.06.94-2.06 2.06-.94-2.06-.94-.94-2.06-.94 2.06-2.06.94zm-11 1L8.5 8.5l.94-2.06 2.06-.94-2.06-.94L8.5 2.5l-.94 2.06-2.06.94zm10 10l.94 2.06.94-2.06 2.06-.94-2.06-.94-.94-2.06-.94 2.06-2.06.94z\"/><path d=\"M17.41 7.96l-1.37-1.37c-.4-.4-.92-.59-1.43-.59-.52 0-1.04.2-1.43.59L10.3 9.45l-7.72 7.72c-.78.78-.78 2.05 0 2.83L4 21.41c.39.39.9.59 1.41.59.51 0 1.02-.2 1.41-.59l7.78-7.78 2.81-2.81c.8-.78.8-2.07 0-2.86zM5.41 20L4 18.59l7.72-7.72 1.47 1.35L5.41 20z\"/>\n",
              "  </svg>\n",
              "      </button>\n",
              "      \n",
              "  <style>\n",
              "    .colab-df-container {\n",
              "      display:flex;\n",
              "      flex-wrap:wrap;\n",
              "      gap: 12px;\n",
              "    }\n",
              "\n",
              "    .colab-df-convert {\n",
              "      background-color: #E8F0FE;\n",
              "      border: none;\n",
              "      border-radius: 50%;\n",
              "      cursor: pointer;\n",
              "      display: none;\n",
              "      fill: #1967D2;\n",
              "      height: 32px;\n",
              "      padding: 0 0 0 0;\n",
              "      width: 32px;\n",
              "    }\n",
              "\n",
              "    .colab-df-convert:hover {\n",
              "      background-color: #E2EBFA;\n",
              "      box-shadow: 0px 1px 2px rgba(60, 64, 67, 0.3), 0px 1px 3px 1px rgba(60, 64, 67, 0.15);\n",
              "      fill: #174EA6;\n",
              "    }\n",
              "\n",
              "    [theme=dark] .colab-df-convert {\n",
              "      background-color: #3B4455;\n",
              "      fill: #D2E3FC;\n",
              "    }\n",
              "\n",
              "    [theme=dark] .colab-df-convert:hover {\n",
              "      background-color: #434B5C;\n",
              "      box-shadow: 0px 1px 3px 1px rgba(0, 0, 0, 0.15);\n",
              "      filter: drop-shadow(0px 1px 2px rgba(0, 0, 0, 0.3));\n",
              "      fill: #FFFFFF;\n",
              "    }\n",
              "  </style>\n",
              "\n",
              "      <script>\n",
              "        const buttonEl =\n",
              "          document.querySelector('#df-b6ef1519-48cc-4450-bb34-e4750547824b button.colab-df-convert');\n",
              "        buttonEl.style.display =\n",
              "          google.colab.kernel.accessAllowed ? 'block' : 'none';\n",
              "\n",
              "        async function convertToInteractive(key) {\n",
              "          const element = document.querySelector('#df-b6ef1519-48cc-4450-bb34-e4750547824b');\n",
              "          const dataTable =\n",
              "            await google.colab.kernel.invokeFunction('convertToInteractive',\n",
              "                                                     [key], {});\n",
              "          if (!dataTable) return;\n",
              "\n",
              "          const docLinkHtml = 'Like what you see? Visit the ' +\n",
              "            '<a target=\"_blank\" href=https://colab.research.google.com/notebooks/data_table.ipynb>data table notebook</a>'\n",
              "            + ' to learn more about interactive tables.';\n",
              "          element.innerHTML = '';\n",
              "          dataTable['output_type'] = 'display_data';\n",
              "          await google.colab.output.renderOutput(dataTable, element);\n",
              "          const docLink = document.createElement('div');\n",
              "          docLink.innerHTML = docLinkHtml;\n",
              "          element.appendChild(docLink);\n",
              "        }\n",
              "      </script>\n",
              "    </div>\n",
              "  </div>\n",
              "  "
            ]
          },
          "metadata": {},
          "execution_count": 112
        }
      ]
    },
    {
      "cell_type": "markdown",
      "source": [
        "Encoding all columns containing string values, which in this case is all the categorical features"
      ],
      "metadata": {
        "id": "SqbOAragDx1y"
      }
    },
    {
      "cell_type": "code",
      "source": [
        "others = df_general.select_dtypes('object').columns\n",
        "others"
      ],
      "metadata": {
        "colab": {
          "base_uri": "https://localhost:8080/"
        },
        "id": "ONvyzxl9ClXW",
        "outputId": "ff94596b-6e2f-4b80-bf53-d5079676ad23"
      },
      "execution_count": 113,
      "outputs": [
        {
          "output_type": "execute_result",
          "data": {
            "text/plain": [
              "Index(['Attrition', 'BusinessTravel', 'Department', 'EducationField', 'Gender',\n",
              "       'JobRole', 'MaritalStatus'],\n",
              "      dtype='object')"
            ]
          },
          "metadata": {},
          "execution_count": 113
        }
      ]
    },
    {
      "cell_type": "code",
      "source": [
        "le = LabelEncoder()\n",
        "for col in others:\n",
        "    df_general[col] = le.fit_transform(df_general[col])"
      ],
      "metadata": {
        "id": "Q2ci_sXDDTZj"
      },
      "execution_count": 114,
      "outputs": []
    },
    {
      "cell_type": "code",
      "source": [
        "df_general"
      ],
      "metadata": {
        "colab": {
          "base_uri": "https://localhost:8080/",
          "height": 488
        },
        "id": "5ZVM2A2RDklD",
        "outputId": "427c3567-c3f2-4d87-d835-2941f098cd45"
      },
      "execution_count": 115,
      "outputs": [
        {
          "output_type": "execute_result",
          "data": {
            "text/plain": [
              "      Age  Attrition  BusinessTravel  Department  DistanceFromHome  Education  \\\n",
              "0      51          0               2           2                 6          2   \n",
              "1      31          1               1           1                10          1   \n",
              "2      32          0               1           1                17          4   \n",
              "3      38          0               0           1                 2          5   \n",
              "4      32          0               2           1                10          1   \n",
              "...   ...        ...             ...         ...               ...        ...   \n",
              "4404   29          0               2           2                 4          3   \n",
              "4405   42          0               2           1                 5          4   \n",
              "4406   29          0               2           1                 2          4   \n",
              "4407   25          0               2           1                25          2   \n",
              "4408   42          0               2           2                18          2   \n",
              "\n",
              "      EducationField  EmployeeID  Gender  JobLevel  ...  TotalWorkingYears  \\\n",
              "0                  1           1       0         1  ...                1.0   \n",
              "1                  1           2       0         1  ...                6.0   \n",
              "2                  4           3       1         4  ...                5.0   \n",
              "3                  1           4       1         3  ...               13.0   \n",
              "4                  3           5       1         1  ...                9.0   \n",
              "...              ...         ...     ...       ...  ...                ...   \n",
              "4404               4        4405       0         2  ...                6.0   \n",
              "4405               3        4406       0         1  ...               10.0   \n",
              "4406               3        4407       1         1  ...               10.0   \n",
              "4407               1        4408       1         2  ...                5.0   \n",
              "4408               3        4409       1         1  ...               10.0   \n",
              "\n",
              "      TrainingTimesLastYear  YearsAtCompany  YearsSinceLastPromotion  \\\n",
              "0                         6               1                        0   \n",
              "1                         3               5                        1   \n",
              "2                         2               5                        0   \n",
              "3                         5               8                        7   \n",
              "4                         2               6                        0   \n",
              "...                     ...             ...                      ...   \n",
              "4404                      2               6                        1   \n",
              "4405                      5               3                        0   \n",
              "4406                      2               3                        0   \n",
              "4407                      4               4                        1   \n",
              "4408                      2               9                        7   \n",
              "\n",
              "      YearsWithCurrManager  JobInvolvement  PerformanceRating  \\\n",
              "0                        0               3                  3   \n",
              "1                        4               2                  4   \n",
              "2                        3               3                  3   \n",
              "3                        5               2                  3   \n",
              "4                        4               3                  3   \n",
              "...                    ...             ...                ...   \n",
              "4404                     5               2                  3   \n",
              "4405                     2               3                  3   \n",
              "4406                     2               2                  3   \n",
              "4407                     2               3                  4   \n",
              "4408                     8               2                  3   \n",
              "\n",
              "      EnvironmentSatisfaction  JobSatisfaction  WorkLifeBalance  \n",
              "0                         3.0              4.0              2.0  \n",
              "1                         3.0              2.0              4.0  \n",
              "2                         2.0              2.0              1.0  \n",
              "3                         4.0              4.0              3.0  \n",
              "4                         4.0              1.0              3.0  \n",
              "...                       ...              ...              ...  \n",
              "4404                      3.0              4.0              3.0  \n",
              "4405                      4.0              1.0              3.0  \n",
              "4406                      4.0              4.0              3.0  \n",
              "4407                      1.0              3.0              3.0  \n",
              "4408                      4.0              1.0              3.0  \n",
              "\n",
              "[4382 rows x 26 columns]"
            ],
            "text/html": [
              "\n",
              "  <div id=\"df-8b83f18a-85fd-4f6c-a68e-81937a5e9c10\">\n",
              "    <div class=\"colab-df-container\">\n",
              "      <div>\n",
              "<style scoped>\n",
              "    .dataframe tbody tr th:only-of-type {\n",
              "        vertical-align: middle;\n",
              "    }\n",
              "\n",
              "    .dataframe tbody tr th {\n",
              "        vertical-align: top;\n",
              "    }\n",
              "\n",
              "    .dataframe thead th {\n",
              "        text-align: right;\n",
              "    }\n",
              "</style>\n",
              "<table border=\"1\" class=\"dataframe\">\n",
              "  <thead>\n",
              "    <tr style=\"text-align: right;\">\n",
              "      <th></th>\n",
              "      <th>Age</th>\n",
              "      <th>Attrition</th>\n",
              "      <th>BusinessTravel</th>\n",
              "      <th>Department</th>\n",
              "      <th>DistanceFromHome</th>\n",
              "      <th>Education</th>\n",
              "      <th>EducationField</th>\n",
              "      <th>EmployeeID</th>\n",
              "      <th>Gender</th>\n",
              "      <th>JobLevel</th>\n",
              "      <th>...</th>\n",
              "      <th>TotalWorkingYears</th>\n",
              "      <th>TrainingTimesLastYear</th>\n",
              "      <th>YearsAtCompany</th>\n",
              "      <th>YearsSinceLastPromotion</th>\n",
              "      <th>YearsWithCurrManager</th>\n",
              "      <th>JobInvolvement</th>\n",
              "      <th>PerformanceRating</th>\n",
              "      <th>EnvironmentSatisfaction</th>\n",
              "      <th>JobSatisfaction</th>\n",
              "      <th>WorkLifeBalance</th>\n",
              "    </tr>\n",
              "  </thead>\n",
              "  <tbody>\n",
              "    <tr>\n",
              "      <th>0</th>\n",
              "      <td>51</td>\n",
              "      <td>0</td>\n",
              "      <td>2</td>\n",
              "      <td>2</td>\n",
              "      <td>6</td>\n",
              "      <td>2</td>\n",
              "      <td>1</td>\n",
              "      <td>1</td>\n",
              "      <td>0</td>\n",
              "      <td>1</td>\n",
              "      <td>...</td>\n",
              "      <td>1.0</td>\n",
              "      <td>6</td>\n",
              "      <td>1</td>\n",
              "      <td>0</td>\n",
              "      <td>0</td>\n",
              "      <td>3</td>\n",
              "      <td>3</td>\n",
              "      <td>3.0</td>\n",
              "      <td>4.0</td>\n",
              "      <td>2.0</td>\n",
              "    </tr>\n",
              "    <tr>\n",
              "      <th>1</th>\n",
              "      <td>31</td>\n",
              "      <td>1</td>\n",
              "      <td>1</td>\n",
              "      <td>1</td>\n",
              "      <td>10</td>\n",
              "      <td>1</td>\n",
              "      <td>1</td>\n",
              "      <td>2</td>\n",
              "      <td>0</td>\n",
              "      <td>1</td>\n",
              "      <td>...</td>\n",
              "      <td>6.0</td>\n",
              "      <td>3</td>\n",
              "      <td>5</td>\n",
              "      <td>1</td>\n",
              "      <td>4</td>\n",
              "      <td>2</td>\n",
              "      <td>4</td>\n",
              "      <td>3.0</td>\n",
              "      <td>2.0</td>\n",
              "      <td>4.0</td>\n",
              "    </tr>\n",
              "    <tr>\n",
              "      <th>2</th>\n",
              "      <td>32</td>\n",
              "      <td>0</td>\n",
              "      <td>1</td>\n",
              "      <td>1</td>\n",
              "      <td>17</td>\n",
              "      <td>4</td>\n",
              "      <td>4</td>\n",
              "      <td>3</td>\n",
              "      <td>1</td>\n",
              "      <td>4</td>\n",
              "      <td>...</td>\n",
              "      <td>5.0</td>\n",
              "      <td>2</td>\n",
              "      <td>5</td>\n",
              "      <td>0</td>\n",
              "      <td>3</td>\n",
              "      <td>3</td>\n",
              "      <td>3</td>\n",
              "      <td>2.0</td>\n",
              "      <td>2.0</td>\n",
              "      <td>1.0</td>\n",
              "    </tr>\n",
              "    <tr>\n",
              "      <th>3</th>\n",
              "      <td>38</td>\n",
              "      <td>0</td>\n",
              "      <td>0</td>\n",
              "      <td>1</td>\n",
              "      <td>2</td>\n",
              "      <td>5</td>\n",
              "      <td>1</td>\n",
              "      <td>4</td>\n",
              "      <td>1</td>\n",
              "      <td>3</td>\n",
              "      <td>...</td>\n",
              "      <td>13.0</td>\n",
              "      <td>5</td>\n",
              "      <td>8</td>\n",
              "      <td>7</td>\n",
              "      <td>5</td>\n",
              "      <td>2</td>\n",
              "      <td>3</td>\n",
              "      <td>4.0</td>\n",
              "      <td>4.0</td>\n",
              "      <td>3.0</td>\n",
              "    </tr>\n",
              "    <tr>\n",
              "      <th>4</th>\n",
              "      <td>32</td>\n",
              "      <td>0</td>\n",
              "      <td>2</td>\n",
              "      <td>1</td>\n",
              "      <td>10</td>\n",
              "      <td>1</td>\n",
              "      <td>3</td>\n",
              "      <td>5</td>\n",
              "      <td>1</td>\n",
              "      <td>1</td>\n",
              "      <td>...</td>\n",
              "      <td>9.0</td>\n",
              "      <td>2</td>\n",
              "      <td>6</td>\n",
              "      <td>0</td>\n",
              "      <td>4</td>\n",
              "      <td>3</td>\n",
              "      <td>3</td>\n",
              "      <td>4.0</td>\n",
              "      <td>1.0</td>\n",
              "      <td>3.0</td>\n",
              "    </tr>\n",
              "    <tr>\n",
              "      <th>...</th>\n",
              "      <td>...</td>\n",
              "      <td>...</td>\n",
              "      <td>...</td>\n",
              "      <td>...</td>\n",
              "      <td>...</td>\n",
              "      <td>...</td>\n",
              "      <td>...</td>\n",
              "      <td>...</td>\n",
              "      <td>...</td>\n",
              "      <td>...</td>\n",
              "      <td>...</td>\n",
              "      <td>...</td>\n",
              "      <td>...</td>\n",
              "      <td>...</td>\n",
              "      <td>...</td>\n",
              "      <td>...</td>\n",
              "      <td>...</td>\n",
              "      <td>...</td>\n",
              "      <td>...</td>\n",
              "      <td>...</td>\n",
              "      <td>...</td>\n",
              "    </tr>\n",
              "    <tr>\n",
              "      <th>4404</th>\n",
              "      <td>29</td>\n",
              "      <td>0</td>\n",
              "      <td>2</td>\n",
              "      <td>2</td>\n",
              "      <td>4</td>\n",
              "      <td>3</td>\n",
              "      <td>4</td>\n",
              "      <td>4405</td>\n",
              "      <td>0</td>\n",
              "      <td>2</td>\n",
              "      <td>...</td>\n",
              "      <td>6.0</td>\n",
              "      <td>2</td>\n",
              "      <td>6</td>\n",
              "      <td>1</td>\n",
              "      <td>5</td>\n",
              "      <td>2</td>\n",
              "      <td>3</td>\n",
              "      <td>3.0</td>\n",
              "      <td>4.0</td>\n",
              "      <td>3.0</td>\n",
              "    </tr>\n",
              "    <tr>\n",
              "      <th>4405</th>\n",
              "      <td>42</td>\n",
              "      <td>0</td>\n",
              "      <td>2</td>\n",
              "      <td>1</td>\n",
              "      <td>5</td>\n",
              "      <td>4</td>\n",
              "      <td>3</td>\n",
              "      <td>4406</td>\n",
              "      <td>0</td>\n",
              "      <td>1</td>\n",
              "      <td>...</td>\n",
              "      <td>10.0</td>\n",
              "      <td>5</td>\n",
              "      <td>3</td>\n",
              "      <td>0</td>\n",
              "      <td>2</td>\n",
              "      <td>3</td>\n",
              "      <td>3</td>\n",
              "      <td>4.0</td>\n",
              "      <td>1.0</td>\n",
              "      <td>3.0</td>\n",
              "    </tr>\n",
              "    <tr>\n",
              "      <th>4406</th>\n",
              "      <td>29</td>\n",
              "      <td>0</td>\n",
              "      <td>2</td>\n",
              "      <td>1</td>\n",
              "      <td>2</td>\n",
              "      <td>4</td>\n",
              "      <td>3</td>\n",
              "      <td>4407</td>\n",
              "      <td>1</td>\n",
              "      <td>1</td>\n",
              "      <td>...</td>\n",
              "      <td>10.0</td>\n",
              "      <td>2</td>\n",
              "      <td>3</td>\n",
              "      <td>0</td>\n",
              "      <td>2</td>\n",
              "      <td>2</td>\n",
              "      <td>3</td>\n",
              "      <td>4.0</td>\n",
              "      <td>4.0</td>\n",
              "      <td>3.0</td>\n",
              "    </tr>\n",
              "    <tr>\n",
              "      <th>4407</th>\n",
              "      <td>25</td>\n",
              "      <td>0</td>\n",
              "      <td>2</td>\n",
              "      <td>1</td>\n",
              "      <td>25</td>\n",
              "      <td>2</td>\n",
              "      <td>1</td>\n",
              "      <td>4408</td>\n",
              "      <td>1</td>\n",
              "      <td>2</td>\n",
              "      <td>...</td>\n",
              "      <td>5.0</td>\n",
              "      <td>4</td>\n",
              "      <td>4</td>\n",
              "      <td>1</td>\n",
              "      <td>2</td>\n",
              "      <td>3</td>\n",
              "      <td>4</td>\n",
              "      <td>1.0</td>\n",
              "      <td>3.0</td>\n",
              "      <td>3.0</td>\n",
              "    </tr>\n",
              "    <tr>\n",
              "      <th>4408</th>\n",
              "      <td>42</td>\n",
              "      <td>0</td>\n",
              "      <td>2</td>\n",
              "      <td>2</td>\n",
              "      <td>18</td>\n",
              "      <td>2</td>\n",
              "      <td>3</td>\n",
              "      <td>4409</td>\n",
              "      <td>1</td>\n",
              "      <td>1</td>\n",
              "      <td>...</td>\n",
              "      <td>10.0</td>\n",
              "      <td>2</td>\n",
              "      <td>9</td>\n",
              "      <td>7</td>\n",
              "      <td>8</td>\n",
              "      <td>2</td>\n",
              "      <td>3</td>\n",
              "      <td>4.0</td>\n",
              "      <td>1.0</td>\n",
              "      <td>3.0</td>\n",
              "    </tr>\n",
              "  </tbody>\n",
              "</table>\n",
              "<p>4382 rows × 26 columns</p>\n",
              "</div>\n",
              "      <button class=\"colab-df-convert\" onclick=\"convertToInteractive('df-8b83f18a-85fd-4f6c-a68e-81937a5e9c10')\"\n",
              "              title=\"Convert this dataframe to an interactive table.\"\n",
              "              style=\"display:none;\">\n",
              "        \n",
              "  <svg xmlns=\"http://www.w3.org/2000/svg\" height=\"24px\"viewBox=\"0 0 24 24\"\n",
              "       width=\"24px\">\n",
              "    <path d=\"M0 0h24v24H0V0z\" fill=\"none\"/>\n",
              "    <path d=\"M18.56 5.44l.94 2.06.94-2.06 2.06-.94-2.06-.94-.94-2.06-.94 2.06-2.06.94zm-11 1L8.5 8.5l.94-2.06 2.06-.94-2.06-.94L8.5 2.5l-.94 2.06-2.06.94zm10 10l.94 2.06.94-2.06 2.06-.94-2.06-.94-.94-2.06-.94 2.06-2.06.94z\"/><path d=\"M17.41 7.96l-1.37-1.37c-.4-.4-.92-.59-1.43-.59-.52 0-1.04.2-1.43.59L10.3 9.45l-7.72 7.72c-.78.78-.78 2.05 0 2.83L4 21.41c.39.39.9.59 1.41.59.51 0 1.02-.2 1.41-.59l7.78-7.78 2.81-2.81c.8-.78.8-2.07 0-2.86zM5.41 20L4 18.59l7.72-7.72 1.47 1.35L5.41 20z\"/>\n",
              "  </svg>\n",
              "      </button>\n",
              "      \n",
              "  <style>\n",
              "    .colab-df-container {\n",
              "      display:flex;\n",
              "      flex-wrap:wrap;\n",
              "      gap: 12px;\n",
              "    }\n",
              "\n",
              "    .colab-df-convert {\n",
              "      background-color: #E8F0FE;\n",
              "      border: none;\n",
              "      border-radius: 50%;\n",
              "      cursor: pointer;\n",
              "      display: none;\n",
              "      fill: #1967D2;\n",
              "      height: 32px;\n",
              "      padding: 0 0 0 0;\n",
              "      width: 32px;\n",
              "    }\n",
              "\n",
              "    .colab-df-convert:hover {\n",
              "      background-color: #E2EBFA;\n",
              "      box-shadow: 0px 1px 2px rgba(60, 64, 67, 0.3), 0px 1px 3px 1px rgba(60, 64, 67, 0.15);\n",
              "      fill: #174EA6;\n",
              "    }\n",
              "\n",
              "    [theme=dark] .colab-df-convert {\n",
              "      background-color: #3B4455;\n",
              "      fill: #D2E3FC;\n",
              "    }\n",
              "\n",
              "    [theme=dark] .colab-df-convert:hover {\n",
              "      background-color: #434B5C;\n",
              "      box-shadow: 0px 1px 3px 1px rgba(0, 0, 0, 0.15);\n",
              "      filter: drop-shadow(0px 1px 2px rgba(0, 0, 0, 0.3));\n",
              "      fill: #FFFFFF;\n",
              "    }\n",
              "  </style>\n",
              "\n",
              "      <script>\n",
              "        const buttonEl =\n",
              "          document.querySelector('#df-8b83f18a-85fd-4f6c-a68e-81937a5e9c10 button.colab-df-convert');\n",
              "        buttonEl.style.display =\n",
              "          google.colab.kernel.accessAllowed ? 'block' : 'none';\n",
              "\n",
              "        async function convertToInteractive(key) {\n",
              "          const element = document.querySelector('#df-8b83f18a-85fd-4f6c-a68e-81937a5e9c10');\n",
              "          const dataTable =\n",
              "            await google.colab.kernel.invokeFunction('convertToInteractive',\n",
              "                                                     [key], {});\n",
              "          if (!dataTable) return;\n",
              "\n",
              "          const docLinkHtml = 'Like what you see? Visit the ' +\n",
              "            '<a target=\"_blank\" href=https://colab.research.google.com/notebooks/data_table.ipynb>data table notebook</a>'\n",
              "            + ' to learn more about interactive tables.';\n",
              "          element.innerHTML = '';\n",
              "          dataTable['output_type'] = 'display_data';\n",
              "          await google.colab.output.renderOutput(dataTable, element);\n",
              "          const docLink = document.createElement('div');\n",
              "          docLink.innerHTML = docLinkHtml;\n",
              "          element.appendChild(docLink);\n",
              "        }\n",
              "      </script>\n",
              "    </div>\n",
              "  </div>\n",
              "  "
            ]
          },
          "metadata": {},
          "execution_count": 115
        }
      ]
    },
    {
      "cell_type": "markdown",
      "source": [
        "Creating the dataframes for prediction value X and and target value Y"
      ],
      "metadata": {
        "id": "R_3NDBeBD_Lh"
      }
    },
    {
      "cell_type": "code",
      "source": [
        "\n",
        "x = df_general.drop(['Attrition','EmployeeID'] ,axis =1)\n",
        "y = df_general['Attrition']\n",
        "print(x.shape ,y.shape)"
      ],
      "metadata": {
        "colab": {
          "base_uri": "https://localhost:8080/"
        },
        "id": "RvgoR1XtDpj6",
        "outputId": "05eaa89a-8bc0-4dff-8d54-eba0e5609cd2"
      },
      "execution_count": 116,
      "outputs": [
        {
          "output_type": "stream",
          "name": "stdout",
          "text": [
            "(4382, 24) (4382,)\n"
          ]
        }
      ]
    },
    {
      "cell_type": "markdown",
      "source": [
        "There is some class imbalance which i hope is the reason the models are overfitting"
      ],
      "metadata": {
        "id": "qC-NBioVkfK0"
      }
    },
    {
      "cell_type": "markdown",
      "source": [
        "Splitting into training and test sets"
      ],
      "metadata": {
        "id": "4tPF019pEkjV"
      }
    },
    {
      "cell_type": "markdown",
      "source": [
        "First I am gonna fix a class imbalance in the dataset, since there's an uneven proportion of people who have left the company compared to people who have not\n",
        "Idea and code taken from:\n",
        "https://www.kaggle.com/code/rajg28/employee-attrition-prediction-all-ml-models#FEATURE-ENGINEERING"
      ],
      "metadata": {
        "id": "B5HytCCuG3CU"
      }
    },
    {
      "cell_type": "code",
      "source": [
        "from imblearn.over_sampling import SMOTE\n",
        "smote = SMOTE(sampling_strategy='minority')\n",
        "x ,y = smote.fit_resample(x ,y)\n",
        "print(x.shape ,y.shape)"
      ],
      "metadata": {
        "colab": {
          "base_uri": "https://localhost:8080/"
        },
        "id": "opLtJmuS6P4s",
        "outputId": "b2196777-b340-48fa-e65d-599d9a93cec9"
      },
      "execution_count": 117,
      "outputs": [
        {
          "output_type": "stream",
          "name": "stdout",
          "text": [
            "(7354, 24) (7354,)\n"
          ]
        }
      ]
    },
    {
      "cell_type": "code",
      "source": [
        "X_train , X_test , y_train ,y_test = train_test_split(x , y, test_size=0.2 , random_state= 52)\n",
        "print(X_train.shape)"
      ],
      "metadata": {
        "colab": {
          "base_uri": "https://localhost:8080/"
        },
        "id": "f04e3ZmiEjJv",
        "outputId": "fcea86af-5ef2-4bc9-c40d-c8384e561d58"
      },
      "execution_count": 118,
      "outputs": [
        {
          "output_type": "stream",
          "name": "stdout",
          "text": [
            "(5883, 24)\n"
          ]
        }
      ]
    },
    {
      "cell_type": "code",
      "source": [
        "sc = StandardScaler()\n",
        "X_train = sc.fit_transform(X_train)\n",
        "X_test = sc.transform(X_test)\n",
        "\n",
        "\n",
        "X_train"
      ],
      "metadata": {
        "colab": {
          "base_uri": "https://localhost:8080/"
        },
        "id": "P7cNa71AENDo",
        "outputId": "c30301cc-dc38-4b47-9dc8-08d02c0c39d8"
      },
      "execution_count": 119,
      "outputs": [
        {
          "output_type": "execute_result",
          "data": {
            "text/plain": [
              "array([[-0.4894548 , -0.83029995, -0.33556581, ...,  0.3418855 ,\n",
              "         1.29126806,  1.80162155],\n",
              "       [ 2.10806832,  0.71352262, -0.33556581, ..., -0.59107441,\n",
              "         1.29126806,  0.39570357],\n",
              "       [-1.24706571, -0.83029995, -0.33556581, ...,  0.80728454,\n",
              "        -1.3735879 , -0.54048916],\n",
              "       ...,\n",
              "       [ 1.56691767,  0.71352262, -0.33556581, ...,  0.3418855 ,\n",
              "        -0.59006317,  0.39570357],\n",
              "       [-0.92237532,  0.71352262,  1.53034503, ...,  0.3418855 ,\n",
              "        -1.53072878,  0.39570357],\n",
              "       [-0.70591506, -0.83029995, -0.33556581, ..., -0.23205543,\n",
              "        -0.7710553 ,  0.39570357]])"
            ]
          },
          "metadata": {},
          "execution_count": 119
        }
      ]
    },
    {
      "cell_type": "markdown",
      "source": [
        "#Trying out logistic regression model"
      ],
      "metadata": {
        "id": "HWXq0UOqKBMx"
      }
    },
    {
      "cell_type": "code",
      "source": [
        "lr_model = LogisticRegression()\n",
        "lr_model.fit(X_train,y_train)\n",
        "lr_model.score(X_train,y_train)\n",
        "print(\"Logistic regression model score: \",lr_model.score(X_train,y_train))"
      ],
      "metadata": {
        "colab": {
          "base_uri": "https://localhost:8080/"
        },
        "id": "2h8anDxtE1Q-",
        "outputId": "d79acab9-b1c6-4d06-c06f-46c38afd7711"
      },
      "execution_count": 120,
      "outputs": [
        {
          "output_type": "stream",
          "name": "stdout",
          "text": [
            "Logistic regression model score:  0.7275199728029916\n"
          ]
        }
      ]
    },
    {
      "cell_type": "code",
      "source": [
        "y_pred_train = lr_model.predict(X_train)"
      ],
      "metadata": {
        "id": "JsikS72YKlsA"
      },
      "execution_count": 121,
      "outputs": []
    },
    {
      "cell_type": "code",
      "source": [
        "mean_squared_error(y_train, y_pred_train, squared=False)"
      ],
      "metadata": {
        "colab": {
          "base_uri": "https://localhost:8080/"
        },
        "id": "TXwp1yN6M8G0",
        "outputId": "ace0732e-fb25-4043-a6be-3a10f1564fcd"
      },
      "execution_count": 122,
      "outputs": [
        {
          "output_type": "execute_result",
          "data": {
            "text/plain": [
              "0.5219961946192792"
            ]
          },
          "metadata": {},
          "execution_count": 122
        }
      ]
    },
    {
      "cell_type": "code",
      "source": [
        "# Feature importance\n",
        "from yellowbrick.features import FeatureImportances\n",
        "\n",
        "viz = FeatureImportances(lr_model)\n",
        "viz.fit(x, y)\n",
        "viz.show()"
      ],
      "metadata": {
        "colab": {
          "base_uri": "https://localhost:8080/",
          "height": 436
        },
        "id": "Ssw37NriOjJo",
        "outputId": "6e2ed782-017d-4ef5-f82a-1fcb14ffa3cd"
      },
      "execution_count": 123,
      "outputs": [
        {
          "output_type": "stream",
          "name": "stderr",
          "text": [
            "detected multi-dimensional feature importances but stack=False, using mean to aggregate them.\n"
          ]
        },
        {
          "output_type": "display_data",
          "data": {
            "text/plain": [
              "<Figure size 576x396 with 1 Axes>"
            ],
            "image/png": "[encoded data removed]"
          },
          "metadata": {}
        },
        {
          "output_type": "execute_result",
          "data": {
            "text/plain": [
              "<matplotlib.axes._subplots.AxesSubplot at 0x7fe98af22250>"
            ]
          },
          "metadata": {},
          "execution_count": 123
        }
      ]
    },
    {
      "cell_type": "code",
      "source": [
        "k = KFold(n_splits = 5)\n",
        "lr_score = cross_val_score(lr_model , X_train , y_train ,cv = k ,scoring = 'neg_mean_squared_error')\n",
        "lr_score.mean()"
      ],
      "metadata": {
        "colab": {
          "base_uri": "https://localhost:8080/"
        },
        "id": "aQCl1ZT2OkEa",
        "outputId": "1895f9ed-40b6-42dc-a182-ff037c82bd37"
      },
      "execution_count": 124,
      "outputs": [
        {
          "output_type": "execute_result",
          "data": {
            "text/plain": [
              "-0.27689646801796336"
            ]
          },
          "metadata": {},
          "execution_count": 124
        }
      ]
    },
    {
      "cell_type": "markdown",
      "source": [
        "#Trying out RandomForest"
      ],
      "metadata": {
        "id": "tg2m1sBtTk7l"
      }
    },
    {
      "cell_type": "markdown",
      "source": [
        "Creating model"
      ],
      "metadata": {
        "id": "l1on6WZgDDv9"
      }
    },
    {
      "cell_type": "code",
      "source": [
        "rf_model = RandomForestRegressor()"
      ],
      "metadata": {
        "id": "DdhQ6VbRSEE-"
      },
      "execution_count": 125,
      "outputs": []
    },
    {
      "cell_type": "code",
      "source": [
        "# Fitting model\n",
        "rf_model.fit(X_train,y_train)"
      ],
      "metadata": {
        "colab": {
          "base_uri": "https://localhost:8080/"
        },
        "id": "G6-V_siUT2U9",
        "outputId": "641f4520-cf4e-4d89-aa45-aa388108bf65"
      },
      "execution_count": 126,
      "outputs": [
        {
          "output_type": "execute_result",
          "data": {
            "text/plain": [
              "RandomForestRegressor()"
            ]
          },
          "metadata": {},
          "execution_count": 126
        }
      ]
    },
    {
      "cell_type": "code",
      "source": [
        "print(\"RandomForest model score: \",rf_model.score(X_train,y_train)) # Model seems to be overfit to data"
      ],
      "metadata": {
        "colab": {
          "base_uri": "https://localhost:8080/"
        },
        "id": "kO_MjD9hUVT7",
        "outputId": "957ab618-5c9b-4114-88ba-4d27984dddbd"
      },
      "execution_count": 127,
      "outputs": [
        {
          "output_type": "stream",
          "name": "stdout",
          "text": [
            "RandomForest model score:  0.996280959062727\n"
          ]
        }
      ]
    },
    {
      "cell_type": "markdown",
      "source": [
        "## Checking feature coefficients"
      ],
      "metadata": {
        "id": "uzrEb1W3Df_9"
      }
    },
    {
      "cell_type": "code",
      "source": [
        "# Feature importance\n",
        "from yellowbrick.features import FeatureImportances\n",
        "\n",
        "viz = FeatureImportances(rf_model)\n",
        "viz.fit(x, y)\n",
        "viz.show()"
      ],
      "metadata": {
        "colab": {
          "base_uri": "https://localhost:8080/",
          "height": 418
        },
        "id": "1g0d7JFlOo5Z",
        "outputId": "5e599803-d113-49d1-e07c-de8e8324dbe4"
      },
      "execution_count": 128,
      "outputs": [
        {
          "output_type": "display_data",
          "data": {
            "text/plain": [
              "<Figure size 576x396 with 1 Axes>"
            ],
            "image/png": "[encoded data removed]"
          },
          "metadata": {}
        },
        {
          "output_type": "execute_result",
          "data": {
            "text/plain": [
              "<matplotlib.axes._subplots.AxesSubplot at 0x7fe9868efa50>"
            ]
          },
          "metadata": {},
          "execution_count": 128
        }
      ]
    },
    {
      "cell_type": "markdown",
      "source": [
        "##Parameter tuning by doing a grid search based on several parameters and then output the best model out of those: best_reg"
      ],
      "metadata": {
        "id": "SYCRYtH8DYIl"
      }
    },
    {
      "cell_type": "code",
      "source": [
        "# scorer = make_scorer(r2_score)n_estimators=50,max_depth=7,max_features='auto'\n",
        "scorer = make_scorer(mean_squared_error)"
      ],
      "metadata": {
        "id": "chB91fhbVNXL"
      },
      "execution_count": 129,
      "outputs": []
    },
    {
      "cell_type": "code",
      "source": [
        "param_grid = {'bootstrap': [False],\n",
        " 'max_depth': [10, 20, 30, None],\n",
        " 'min_samples_split': [5, 10],\n",
        " 'n_estimators': [30]}"
      ],
      "metadata": {
        "id": "Bodi_SehiTq0"
      },
      "execution_count": 130,
      "outputs": []
    },
    {
      "cell_type": "code",
      "source": [
        "# Perform grid search on the classifier using 'scorer' as the scoring method.\n",
        "grid_obj = GridSearchCV(rf_model, param_grid, scoring=scorer)"
      ],
      "metadata": {
        "id": "poTnuqZIVJzD"
      },
      "execution_count": 131,
      "outputs": []
    },
    {
      "cell_type": "code",
      "source": [
        "grid_fit = grid_obj.fit(x, y)"
      ],
      "metadata": {
        "id": "ViMw7o0iVOcD"
      },
      "execution_count": 132,
      "outputs": []
    },
    {
      "cell_type": "code",
      "source": [
        "# Get the estimator.\n",
        "best_reg = grid_fit.best_estimator_"
      ],
      "metadata": {
        "id": "rgaY8mmVVbPb"
      },
      "execution_count": 133,
      "outputs": []
    },
    {
      "cell_type": "code",
      "source": [
        "# Fit the new model.\n",
        "best_reg.fit(X_train, y_train)"
      ],
      "metadata": {
        "colab": {
          "base_uri": "https://localhost:8080/"
        },
        "id": "7rAzBTIfVdNT",
        "outputId": "b2f9eecf-a48c-454f-c543-2cc11ec020a2"
      },
      "execution_count": 134,
      "outputs": [
        {
          "output_type": "execute_result",
          "data": {
            "text/plain": [
              "RandomForestRegressor(bootstrap=False, max_depth=10, min_samples_split=10,\n",
              "                      n_estimators=30)"
            ]
          },
          "metadata": {},
          "execution_count": 134
        }
      ]
    },
    {
      "cell_type": "code",
      "source": [
        "# Model performance on TRAIN data\n",
        "best_reg.score(X_train, y_train)"
      ],
      "metadata": {
        "colab": {
          "base_uri": "https://localhost:8080/"
        },
        "id": "qtg69kkUWDPi",
        "outputId": "7b79f62c-f42b-4f39-95d9-bb664ec9caf3"
      },
      "execution_count": 135,
      "outputs": [
        {
          "output_type": "execute_result",
          "data": {
            "text/plain": [
              "0.8574796565173672"
            ]
          },
          "metadata": {},
          "execution_count": 135
        }
      ]
    },
    {
      "cell_type": "code",
      "source": [
        "# Model performance on TEST data\n",
        "best_reg.score(X_test, y_test)"
      ],
      "metadata": {
        "colab": {
          "base_uri": "https://localhost:8080/"
        },
        "id": "me-g2OLNWF0k",
        "outputId": "5e36aa46-4c03-4d83-b53b-27b8be1ff15e"
      },
      "execution_count": 136,
      "outputs": [
        {
          "output_type": "execute_result",
          "data": {
            "text/plain": [
              "0.7795768819172906"
            ]
          },
          "metadata": {},
          "execution_count": 136
        }
      ]
    },
    {
      "cell_type": "code",
      "source": [
        "best_reg.predict(X_test[2,:].reshape(1,-1))"
      ],
      "metadata": {
        "colab": {
          "base_uri": "https://localhost:8080/"
        },
        "id": "hCRP9fDH42Se",
        "outputId": "d071cb5a-35c9-456f-bdc2-7387b824d30c"
      },
      "execution_count": 137,
      "outputs": [
        {
          "output_type": "execute_result",
          "data": {
            "text/plain": [
              "array([1.])"
            ]
          },
          "metadata": {},
          "execution_count": 137
        }
      ]
    },
    {
      "cell_type": "markdown",
      "source": [
        "##Saving the model"
      ],
      "metadata": {
        "id": "fk1SDXvAIAjM"
      }
    },
    {
      "cell_type": "code",
      "source": [
        "import pickle"
      ],
      "metadata": {
        "id": "tJ19H5CVXu1q"
      },
      "execution_count": 138,
      "outputs": []
    },
    {
      "cell_type": "code",
      "source": [
        "pickle.dump(sc, open('scaler.pkl','wb'))"
      ],
      "metadata": {
        "id": "3UEh6HWr9AmG"
      },
      "execution_count": 139,
      "outputs": []
    },
    {
      "cell_type": "code",
      "source": [
        "pickle.dump(le, open('LabelEncoder.pkl','wb'))"
      ],
      "metadata": {
        "id": "aQMzy6ux9cGt"
      },
      "execution_count": 140,
      "outputs": []
    },
    {
      "cell_type": "markdown",
      "source": [],
      "metadata": {
        "id": "mv6rRl536_3E"
      }
    },
    {
      "cell_type": "markdown",
      "source": [],
      "metadata": {
        "id": "l21XI7Qt6_qj"
      }
    },
    {
      "cell_type": "markdown",
      "source": [],
      "metadata": {
        "id": "-ouXNvnL6_hF"
      }
    },
    {
      "cell_type": "code",
      "source": [
        "!pip install sklearn-json\n",
        "import sklearn_json as skljson\n",
        "from sklearn.ensemble import RandomForestClassifier"
      ],
      "metadata": {
        "colab": {
          "base_uri": "https://localhost:8080/"
        },
        "id": "xPSPZPMTAgE0",
        "outputId": "a970bb63-ee56-416c-e3cd-7dfea153946a"
      },
      "execution_count": 141,
      "outputs": [
        {
          "output_type": "stream",
          "name": "stdout",
          "text": [
            "Looking in indexes: https://pypi.org/simple, https://us-python.pkg.dev/colab-wheels/public/simple/\n",
            "Requirement already satisfied: sklearn-json in /usr/local/lib/python3.7/dist-packages (0.1.0)\n",
            "Requirement already satisfied: scikit-learn>=0.21.3 in /usr/local/lib/python3.7/dist-packages (from sklearn-json) (1.0.2)\n",
            "Requirement already satisfied: scipy>=1.1.0 in /usr/local/lib/python3.7/dist-packages (from scikit-learn>=0.21.3->sklearn-json) (1.7.3)\n",
            "Requirement already satisfied: threadpoolctl>=2.0.0 in /usr/local/lib/python3.7/dist-packages (from scikit-learn>=0.21.3->sklearn-json) (3.1.0)\n",
            "Requirement already satisfied: numpy>=1.14.6 in /usr/local/lib/python3.7/dist-packages (from scikit-learn>=0.21.3->sklearn-json) (1.21.6)\n",
            "Requirement already satisfied: joblib>=0.11 in /usr/local/lib/python3.7/dist-packages (from scikit-learn>=0.21.3->sklearn-json) (1.1.0)\n"
          ]
        }
      ]
    },
    {
      "cell_type": "code",
      "source": [
        "joblib.dump(best_reg, 'HR_SML_RF.json', compress=3, protocol=None, cache_size=None)"
      ],
      "metadata": {
        "colab": {
          "base_uri": "https://localhost:8080/"
        },
        "id": "OEW5WkdnAtqE",
        "outputId": "4697a70f-239e-4079-85bd-d6e3cdad232a"
      },
      "execution_count": 142,
      "outputs": [
        {
          "output_type": "execute_result",
          "data": {
            "text/plain": [
              "['HR_SML_RF.json']"
            ]
          },
          "metadata": {},
          "execution_count": 142
        }
      ]
    },
    {
      "cell_type": "code",
      "source": [
        "best_reg.save_model('best_reg.json')"
      ],
      "metadata": {
        "id": "zxTG5TU19hD1",
        "colab": {
          "base_uri": "https://localhost:8080/",
          "height": 165
        },
        "outputId": "c58044f5-5bdb-48ce-ca3b-ec011f0ffdb7"
      },
      "execution_count": 143,
      "outputs": [
        {
          "output_type": "error",
          "ename": "AttributeError",
          "evalue": "ignored",
          "traceback": [
            "\u001b[0;31m---------------------------------------------------------------------------\u001b[0m",
            "\u001b[0;31mAttributeError\u001b[0m                            Traceback (most recent call last)",
            "\u001b[0;32m<ipython-input-143-c376e472614c>\u001b[0m in \u001b[0;36m<module>\u001b[0;34m\u001b[0m\n\u001b[0;32m----> 1\u001b[0;31m \u001b[0mbest_reg\u001b[0m\u001b[0;34m.\u001b[0m\u001b[0msave_model\u001b[0m\u001b[0;34m(\u001b[0m\u001b[0;34m'best_reg.json'\u001b[0m\u001b[0;34m)\u001b[0m\u001b[0;34m\u001b[0m\u001b[0;34m\u001b[0m\u001b[0m\n\u001b[0m",
            "\u001b[0;31mAttributeError\u001b[0m: 'RandomForestRegressor' object has no attribute 'save_model'"
          ]
        }
      ]
    },
    {
      "cell_type": "code",
      "source": [
        "pickle.dump(best_reg, open('best_reg.pkl','wb'))"
      ],
      "metadata": {
        "id": "SPnIl8kV9lC1"
      },
      "execution_count": null,
      "outputs": []
    },
    {
      "cell_type": "code",
      "source": [
        "df_general.to_json('df_general.json.gz')"
      ],
      "metadata": {
        "id": "v79wu5uM9mVc"
      },
      "execution_count": 144,
      "outputs": []
    },
    {
      "cell_type": "markdown",
      "source": [
        "#Trying out XGBoost model"
      ],
      "metadata": {
        "id": "vSsnmlPaJ6ES"
      }
    },
    {
      "cell_type": "code",
      "source": [
        "from xgboost import XGBRegressor"
      ],
      "metadata": {
        "id": "Qh8oc8IIE6Xu"
      },
      "execution_count": null,
      "outputs": []
    },
    {
      "cell_type": "code",
      "source": [
        "model_xgb = XGBRegressor()"
      ],
      "metadata": {
        "id": "zrImRAmAE7Z-"
      },
      "execution_count": null,
      "outputs": []
    },
    {
      "cell_type": "code",
      "source": [
        "model_xgb.fit(X_train, y_train)"
      ],
      "metadata": {
        "id": "842ZBq57FDXG"
      },
      "execution_count": null,
      "outputs": []
    },
    {
      "cell_type": "code",
      "source": [
        "print('Model XGB' + ' ' + str(model_xgb.score(X_train, y_train)))"
      ],
      "metadata": {
        "id": "3LxqUT0sHUTQ"
      },
      "execution_count": null,
      "outputs": []
    },
    {
      "cell_type": "code",
      "source": [
        "y_pred_train = model_xgb.predict(X_train)"
      ],
      "metadata": {
        "id": "EWzp3AdUHW2n"
      },
      "execution_count": null,
      "outputs": []
    },
    {
      "cell_type": "code",
      "source": [
        "mean_squared_error(y_train, y_pred_train, squared=False)"
      ],
      "metadata": {
        "id": "v7XMEH6gHYlA"
      },
      "execution_count": null,
      "outputs": []
    },
    {
      "cell_type": "code",
      "source": [
        "feat_importances = pd.Series(model_xgb.feature_importances_, index=x.columns)\n",
        "feat_importances.nlargest(20).plot(kind='barh')"
      ],
      "metadata": {
        "id": "Brof4BqUHeS3"
      },
      "execution_count": null,
      "outputs": []
    },
    {
      "cell_type": "code",
      "source": [
        "explainer = shap.TreeExplainer(model_xgb)"
      ],
      "metadata": {
        "id": "N8EfrR-hIq-E"
      },
      "execution_count": null,
      "outputs": []
    },
    {
      "cell_type": "code",
      "source": [
        "shap_values = explainer.shap_values(x)"
      ],
      "metadata": {
        "id": "SER5WGvpJCjk"
      },
      "execution_count": null,
      "outputs": []
    },
    {
      "cell_type": "code",
      "source": [
        "shap.summary_plot(shap_values, x, plot_type=\"bar\")"
      ],
      "metadata": {
        "id": "lfQoHEwUJJDL"
      },
      "execution_count": null,
      "outputs": []
    },
    {
      "cell_type": "code",
      "source": [
        "model_xgb.score(y_train, y_pred_train)"
      ],
      "metadata": {
        "id": "DHZ8SHxkCbk1"
      },
      "execution_count": null,
      "outputs": []
    }
  ]
}